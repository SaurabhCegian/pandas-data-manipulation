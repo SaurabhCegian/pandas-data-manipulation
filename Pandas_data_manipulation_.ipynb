{
  "nbformat": 4,
  "nbformat_minor": 0,
  "metadata": {
    "kernelspec": {
      "display_name": "Python 3",
      "language": "python",
      "name": "python3"
    },
    "language_info": {
      "codemirror_mode": {
        "name": "ipython",
        "version": 3
      },
      "file_extension": ".py",
      "mimetype": "text/x-python",
      "name": "python",
      "nbconvert_exporter": "python",
      "pygments_lexer": "ipython3",
      "version": "3.7.1"
    },
    "colab": {
      "name": "Pandas data manipulation .ipynb",
      "provenance": []
    }
  },
  "cells": [
    {
      "cell_type": "code",
      "metadata": {
        "scrolled": true,
        "id": "1rPAzXIsWWAn",
        "colab_type": "code",
        "colab": {}
      },
      "source": [
        "import pandas as pd"
      ],
      "execution_count": 1,
      "outputs": []
    },
    {
      "cell_type": "code",
      "metadata": {
        "id": "rJn-ZH5nWWAt",
        "colab_type": "code",
        "colab": {}
      },
      "source": [
        "import numpy as np\n",
        "import pandas as pd\n",
        "import os\n",
        "import matplotlib.pyplot as plt\n",
        "%matplotlib inline"
      ],
      "execution_count": 2,
      "outputs": []
    },
    {
      "cell_type": "code",
      "metadata": {
        "id": "7B_1OuwfWWAw",
        "colab_type": "code",
        "colab": {
          "base_uri": "https://localhost:8080/",
          "height": 419
        },
        "outputId": "279e9497-bdd3-4498-a943-34705a0e59a3"
      },
      "source": [
        "titanic_train = pd.read_csv(\"https://gist.githubusercontent.com/michhar/2dfd2de0d4f8727f873422c5d959fff5/raw/ff414a1bcfcba32481e4d4e8db578e55872a2ca1/titanic.csv\",\n",
        "                           sep='\\t')   \n",
        "titanic_train"
      ],
      "execution_count": 3,
      "outputs": [
        {
          "output_type": "execute_result",
          "data": {
            "text/html": [
              "<div>\n",
              "<style scoped>\n",
              "    .dataframe tbody tr th:only-of-type {\n",
              "        vertical-align: middle;\n",
              "    }\n",
              "\n",
              "    .dataframe tbody tr th {\n",
              "        vertical-align: top;\n",
              "    }\n",
              "\n",
              "    .dataframe thead th {\n",
              "        text-align: right;\n",
              "    }\n",
              "</style>\n",
              "<table border=\"1\" class=\"dataframe\">\n",
              "  <thead>\n",
              "    <tr style=\"text-align: right;\">\n",
              "      <th></th>\n",
              "      <th>PassengerId</th>\n",
              "      <th>Survived</th>\n",
              "      <th>Pclass</th>\n",
              "      <th>Name</th>\n",
              "      <th>Sex</th>\n",
              "      <th>Age</th>\n",
              "      <th>SibSp</th>\n",
              "      <th>Parch</th>\n",
              "      <th>Ticket</th>\n",
              "      <th>Fare</th>\n",
              "      <th>Cabin</th>\n",
              "      <th>Embarked</th>\n",
              "    </tr>\n",
              "  </thead>\n",
              "  <tbody>\n",
              "    <tr>\n",
              "      <th>0</th>\n",
              "      <td>1</td>\n",
              "      <td>0</td>\n",
              "      <td>3</td>\n",
              "      <td>Braund, Mr. Owen Harris</td>\n",
              "      <td>male</td>\n",
              "      <td>22.0</td>\n",
              "      <td>1</td>\n",
              "      <td>0</td>\n",
              "      <td>A/5 21171</td>\n",
              "      <td>7.2500</td>\n",
              "      <td>NaN</td>\n",
              "      <td>S</td>\n",
              "    </tr>\n",
              "    <tr>\n",
              "      <th>1</th>\n",
              "      <td>2</td>\n",
              "      <td>1</td>\n",
              "      <td>1</td>\n",
              "      <td>Cumings, Mrs. John Bradley (Florence Briggs Th...</td>\n",
              "      <td>female</td>\n",
              "      <td>38.0</td>\n",
              "      <td>1</td>\n",
              "      <td>0</td>\n",
              "      <td>PC 17599</td>\n",
              "      <td>71.2833</td>\n",
              "      <td>C85</td>\n",
              "      <td>C</td>\n",
              "    </tr>\n",
              "    <tr>\n",
              "      <th>2</th>\n",
              "      <td>3</td>\n",
              "      <td>1</td>\n",
              "      <td>3</td>\n",
              "      <td>Heikkinen, Miss. Laina</td>\n",
              "      <td>female</td>\n",
              "      <td>26.0</td>\n",
              "      <td>0</td>\n",
              "      <td>0</td>\n",
              "      <td>STON/O2. 3101282</td>\n",
              "      <td>7.9250</td>\n",
              "      <td>NaN</td>\n",
              "      <td>S</td>\n",
              "    </tr>\n",
              "    <tr>\n",
              "      <th>3</th>\n",
              "      <td>4</td>\n",
              "      <td>1</td>\n",
              "      <td>1</td>\n",
              "      <td>Futrelle, Mrs. Jacques Heath (Lily May Peel)</td>\n",
              "      <td>female</td>\n",
              "      <td>35.0</td>\n",
              "      <td>1</td>\n",
              "      <td>0</td>\n",
              "      <td>113803</td>\n",
              "      <td>53.1000</td>\n",
              "      <td>C123</td>\n",
              "      <td>S</td>\n",
              "    </tr>\n",
              "    <tr>\n",
              "      <th>4</th>\n",
              "      <td>5</td>\n",
              "      <td>0</td>\n",
              "      <td>3</td>\n",
              "      <td>Allen, Mr. William Henry</td>\n",
              "      <td>male</td>\n",
              "      <td>35.0</td>\n",
              "      <td>0</td>\n",
              "      <td>0</td>\n",
              "      <td>373450</td>\n",
              "      <td>8.0500</td>\n",
              "      <td>NaN</td>\n",
              "      <td>S</td>\n",
              "    </tr>\n",
              "    <tr>\n",
              "      <th>...</th>\n",
              "      <td>...</td>\n",
              "      <td>...</td>\n",
              "      <td>...</td>\n",
              "      <td>...</td>\n",
              "      <td>...</td>\n",
              "      <td>...</td>\n",
              "      <td>...</td>\n",
              "      <td>...</td>\n",
              "      <td>...</td>\n",
              "      <td>...</td>\n",
              "      <td>...</td>\n",
              "      <td>...</td>\n",
              "    </tr>\n",
              "    <tr>\n",
              "      <th>151</th>\n",
              "      <td>152</td>\n",
              "      <td>1</td>\n",
              "      <td>1</td>\n",
              "      <td>Pears, Mrs. Thomas (Edith Wearne)</td>\n",
              "      <td>female</td>\n",
              "      <td>22.0</td>\n",
              "      <td>1</td>\n",
              "      <td>0</td>\n",
              "      <td>113776</td>\n",
              "      <td>66.6000</td>\n",
              "      <td>C2</td>\n",
              "      <td>S</td>\n",
              "    </tr>\n",
              "    <tr>\n",
              "      <th>152</th>\n",
              "      <td>153</td>\n",
              "      <td>0</td>\n",
              "      <td>3</td>\n",
              "      <td>Meo, Mr. Alfonzo</td>\n",
              "      <td>male</td>\n",
              "      <td>55.5</td>\n",
              "      <td>0</td>\n",
              "      <td>0</td>\n",
              "      <td>A.5. 11206</td>\n",
              "      <td>8.0500</td>\n",
              "      <td>NaN</td>\n",
              "      <td>S</td>\n",
              "    </tr>\n",
              "    <tr>\n",
              "      <th>153</th>\n",
              "      <td>154</td>\n",
              "      <td>0</td>\n",
              "      <td>3</td>\n",
              "      <td>van Billiard, Mr. Austin Blyler</td>\n",
              "      <td>male</td>\n",
              "      <td>40.5</td>\n",
              "      <td>0</td>\n",
              "      <td>2</td>\n",
              "      <td>A/5. 851</td>\n",
              "      <td>14.5000</td>\n",
              "      <td>NaN</td>\n",
              "      <td>S</td>\n",
              "    </tr>\n",
              "    <tr>\n",
              "      <th>154</th>\n",
              "      <td>155</td>\n",
              "      <td>0</td>\n",
              "      <td>3</td>\n",
              "      <td>Olsen, Mr. Ole Martin</td>\n",
              "      <td>male</td>\n",
              "      <td>NaN</td>\n",
              "      <td>0</td>\n",
              "      <td>0</td>\n",
              "      <td>Fa 265302</td>\n",
              "      <td>7.3125</td>\n",
              "      <td>NaN</td>\n",
              "      <td>S</td>\n",
              "    </tr>\n",
              "    <tr>\n",
              "      <th>155</th>\n",
              "      <td>156</td>\n",
              "      <td>0</td>\n",
              "      <td>1</td>\n",
              "      <td>Williams, Mr. Charles Duane</td>\n",
              "      <td>male</td>\n",
              "      <td>51.0</td>\n",
              "      <td>0</td>\n",
              "      <td>1</td>\n",
              "      <td>PC 17597</td>\n",
              "      <td>61.3792</td>\n",
              "      <td>NaN</td>\n",
              "      <td>C</td>\n",
              "    </tr>\n",
              "  </tbody>\n",
              "</table>\n",
              "<p>156 rows × 12 columns</p>\n",
              "</div>"
            ],
            "text/plain": [
              "     PassengerId  Survived  Pclass  ...     Fare Cabin  Embarked\n",
              "0              1         0       3  ...   7.2500   NaN         S\n",
              "1              2         1       1  ...  71.2833   C85         C\n",
              "2              3         1       3  ...   7.9250   NaN         S\n",
              "3              4         1       1  ...  53.1000  C123         S\n",
              "4              5         0       3  ...   8.0500   NaN         S\n",
              "..           ...       ...     ...  ...      ...   ...       ...\n",
              "151          152         1       1  ...  66.6000    C2         S\n",
              "152          153         0       3  ...   8.0500   NaN         S\n",
              "153          154         0       3  ...  14.5000   NaN         S\n",
              "154          155         0       3  ...   7.3125   NaN         S\n",
              "155          156         0       1  ...  61.3792   NaN         C\n",
              "\n",
              "[156 rows x 12 columns]"
            ]
          },
          "metadata": {
            "tags": []
          },
          "execution_count": 3
        }
      ]
    },
    {
      "cell_type": "code",
      "metadata": {
        "id": "82_e4bMrWWA1",
        "colab_type": "code",
        "colab": {
          "base_uri": "https://localhost:8080/",
          "height": 359
        },
        "outputId": "4f891810-d606-4b54-e95b-9a7ebc92e690"
      },
      "source": [
        "titanic_train.tail(10)"
      ],
      "execution_count": 4,
      "outputs": [
        {
          "output_type": "execute_result",
          "data": {
            "text/html": [
              "<div>\n",
              "<style scoped>\n",
              "    .dataframe tbody tr th:only-of-type {\n",
              "        vertical-align: middle;\n",
              "    }\n",
              "\n",
              "    .dataframe tbody tr th {\n",
              "        vertical-align: top;\n",
              "    }\n",
              "\n",
              "    .dataframe thead th {\n",
              "        text-align: right;\n",
              "    }\n",
              "</style>\n",
              "<table border=\"1\" class=\"dataframe\">\n",
              "  <thead>\n",
              "    <tr style=\"text-align: right;\">\n",
              "      <th></th>\n",
              "      <th>PassengerId</th>\n",
              "      <th>Survived</th>\n",
              "      <th>Pclass</th>\n",
              "      <th>Name</th>\n",
              "      <th>Sex</th>\n",
              "      <th>Age</th>\n",
              "      <th>SibSp</th>\n",
              "      <th>Parch</th>\n",
              "      <th>Ticket</th>\n",
              "      <th>Fare</th>\n",
              "      <th>Cabin</th>\n",
              "      <th>Embarked</th>\n",
              "    </tr>\n",
              "  </thead>\n",
              "  <tbody>\n",
              "    <tr>\n",
              "      <th>146</th>\n",
              "      <td>147</td>\n",
              "      <td>1</td>\n",
              "      <td>3</td>\n",
              "      <td>Andersson, Mr. August Edvard (\"Wennerstrom\")</td>\n",
              "      <td>male</td>\n",
              "      <td>27.0</td>\n",
              "      <td>0</td>\n",
              "      <td>0</td>\n",
              "      <td>350043</td>\n",
              "      <td>7.7958</td>\n",
              "      <td>NaN</td>\n",
              "      <td>S</td>\n",
              "    </tr>\n",
              "    <tr>\n",
              "      <th>147</th>\n",
              "      <td>148</td>\n",
              "      <td>0</td>\n",
              "      <td>3</td>\n",
              "      <td>Ford, Miss. Robina Maggie \"Ruby\"</td>\n",
              "      <td>female</td>\n",
              "      <td>9.0</td>\n",
              "      <td>2</td>\n",
              "      <td>2</td>\n",
              "      <td>W./C. 6608</td>\n",
              "      <td>34.3750</td>\n",
              "      <td>NaN</td>\n",
              "      <td>S</td>\n",
              "    </tr>\n",
              "    <tr>\n",
              "      <th>148</th>\n",
              "      <td>149</td>\n",
              "      <td>0</td>\n",
              "      <td>2</td>\n",
              "      <td>Navratil, Mr. Michel (\"Louis M Hoffman\")</td>\n",
              "      <td>male</td>\n",
              "      <td>36.5</td>\n",
              "      <td>0</td>\n",
              "      <td>2</td>\n",
              "      <td>230080</td>\n",
              "      <td>26.0000</td>\n",
              "      <td>F2</td>\n",
              "      <td>S</td>\n",
              "    </tr>\n",
              "    <tr>\n",
              "      <th>149</th>\n",
              "      <td>150</td>\n",
              "      <td>0</td>\n",
              "      <td>2</td>\n",
              "      <td>Byles, Rev. Thomas Roussel Davids</td>\n",
              "      <td>male</td>\n",
              "      <td>42.0</td>\n",
              "      <td>0</td>\n",
              "      <td>0</td>\n",
              "      <td>244310</td>\n",
              "      <td>13.0000</td>\n",
              "      <td>NaN</td>\n",
              "      <td>S</td>\n",
              "    </tr>\n",
              "    <tr>\n",
              "      <th>150</th>\n",
              "      <td>151</td>\n",
              "      <td>0</td>\n",
              "      <td>2</td>\n",
              "      <td>Bateman, Rev. Robert James</td>\n",
              "      <td>male</td>\n",
              "      <td>51.0</td>\n",
              "      <td>0</td>\n",
              "      <td>0</td>\n",
              "      <td>S.O.P. 1166</td>\n",
              "      <td>12.5250</td>\n",
              "      <td>NaN</td>\n",
              "      <td>S</td>\n",
              "    </tr>\n",
              "    <tr>\n",
              "      <th>151</th>\n",
              "      <td>152</td>\n",
              "      <td>1</td>\n",
              "      <td>1</td>\n",
              "      <td>Pears, Mrs. Thomas (Edith Wearne)</td>\n",
              "      <td>female</td>\n",
              "      <td>22.0</td>\n",
              "      <td>1</td>\n",
              "      <td>0</td>\n",
              "      <td>113776</td>\n",
              "      <td>66.6000</td>\n",
              "      <td>C2</td>\n",
              "      <td>S</td>\n",
              "    </tr>\n",
              "    <tr>\n",
              "      <th>152</th>\n",
              "      <td>153</td>\n",
              "      <td>0</td>\n",
              "      <td>3</td>\n",
              "      <td>Meo, Mr. Alfonzo</td>\n",
              "      <td>male</td>\n",
              "      <td>55.5</td>\n",
              "      <td>0</td>\n",
              "      <td>0</td>\n",
              "      <td>A.5. 11206</td>\n",
              "      <td>8.0500</td>\n",
              "      <td>NaN</td>\n",
              "      <td>S</td>\n",
              "    </tr>\n",
              "    <tr>\n",
              "      <th>153</th>\n",
              "      <td>154</td>\n",
              "      <td>0</td>\n",
              "      <td>3</td>\n",
              "      <td>van Billiard, Mr. Austin Blyler</td>\n",
              "      <td>male</td>\n",
              "      <td>40.5</td>\n",
              "      <td>0</td>\n",
              "      <td>2</td>\n",
              "      <td>A/5. 851</td>\n",
              "      <td>14.5000</td>\n",
              "      <td>NaN</td>\n",
              "      <td>S</td>\n",
              "    </tr>\n",
              "    <tr>\n",
              "      <th>154</th>\n",
              "      <td>155</td>\n",
              "      <td>0</td>\n",
              "      <td>3</td>\n",
              "      <td>Olsen, Mr. Ole Martin</td>\n",
              "      <td>male</td>\n",
              "      <td>NaN</td>\n",
              "      <td>0</td>\n",
              "      <td>0</td>\n",
              "      <td>Fa 265302</td>\n",
              "      <td>7.3125</td>\n",
              "      <td>NaN</td>\n",
              "      <td>S</td>\n",
              "    </tr>\n",
              "    <tr>\n",
              "      <th>155</th>\n",
              "      <td>156</td>\n",
              "      <td>0</td>\n",
              "      <td>1</td>\n",
              "      <td>Williams, Mr. Charles Duane</td>\n",
              "      <td>male</td>\n",
              "      <td>51.0</td>\n",
              "      <td>0</td>\n",
              "      <td>1</td>\n",
              "      <td>PC 17597</td>\n",
              "      <td>61.3792</td>\n",
              "      <td>NaN</td>\n",
              "      <td>C</td>\n",
              "    </tr>\n",
              "  </tbody>\n",
              "</table>\n",
              "</div>"
            ],
            "text/plain": [
              "     PassengerId  Survived  Pclass  ...     Fare Cabin  Embarked\n",
              "146          147         1       3  ...   7.7958   NaN         S\n",
              "147          148         0       3  ...  34.3750   NaN         S\n",
              "148          149         0       2  ...  26.0000    F2         S\n",
              "149          150         0       2  ...  13.0000   NaN         S\n",
              "150          151         0       2  ...  12.5250   NaN         S\n",
              "151          152         1       1  ...  66.6000    C2         S\n",
              "152          153         0       3  ...   8.0500   NaN         S\n",
              "153          154         0       3  ...  14.5000   NaN         S\n",
              "154          155         0       3  ...   7.3125   NaN         S\n",
              "155          156         0       1  ...  61.3792   NaN         C\n",
              "\n",
              "[10 rows x 12 columns]"
            ]
          },
          "metadata": {
            "tags": []
          },
          "execution_count": 4
        }
      ]
    },
    {
      "cell_type": "code",
      "metadata": {
        "id": "KH0WIbxKWWA5",
        "colab_type": "code",
        "colab": {
          "base_uri": "https://localhost:8080/",
          "height": 238
        },
        "outputId": "cdf209dd-68e0-4ba2-cc12-2a8004ab4326"
      },
      "source": [
        "titanic_train.dtypes"
      ],
      "execution_count": 5,
      "outputs": [
        {
          "output_type": "execute_result",
          "data": {
            "text/plain": [
              "PassengerId      int64\n",
              "Survived         int64\n",
              "Pclass           int64\n",
              "Name            object\n",
              "Sex             object\n",
              "Age            float64\n",
              "SibSp            int64\n",
              "Parch            int64\n",
              "Ticket          object\n",
              "Fare           float64\n",
              "Cabin           object\n",
              "Embarked        object\n",
              "dtype: object"
            ]
          },
          "metadata": {
            "tags": []
          },
          "execution_count": 5
        }
      ]
    },
    {
      "cell_type": "code",
      "metadata": {
        "scrolled": true,
        "id": "Hsd_00ynWWA9",
        "colab_type": "code",
        "colab": {
          "base_uri": "https://localhost:8080/",
          "height": 173
        },
        "outputId": "7c1240d2-c2a7-43be-89cf-c67f112e886a"
      },
      "source": [
        "titanic_train.dtypes == \"object\"\n",
        "a = titanic_train.dtypes[titanic_train.dtypes == \"object\"].index\n",
        "a\n",
        "titanic_train[a].describe()\n"
      ],
      "execution_count": 6,
      "outputs": [
        {
          "output_type": "execute_result",
          "data": {
            "text/html": [
              "<div>\n",
              "<style scoped>\n",
              "    .dataframe tbody tr th:only-of-type {\n",
              "        vertical-align: middle;\n",
              "    }\n",
              "\n",
              "    .dataframe tbody tr th {\n",
              "        vertical-align: top;\n",
              "    }\n",
              "\n",
              "    .dataframe thead th {\n",
              "        text-align: right;\n",
              "    }\n",
              "</style>\n",
              "<table border=\"1\" class=\"dataframe\">\n",
              "  <thead>\n",
              "    <tr style=\"text-align: right;\">\n",
              "      <th></th>\n",
              "      <th>Name</th>\n",
              "      <th>Sex</th>\n",
              "      <th>Ticket</th>\n",
              "      <th>Cabin</th>\n",
              "      <th>Embarked</th>\n",
              "    </tr>\n",
              "  </thead>\n",
              "  <tbody>\n",
              "    <tr>\n",
              "      <th>count</th>\n",
              "      <td>156</td>\n",
              "      <td>156</td>\n",
              "      <td>156</td>\n",
              "      <td>31</td>\n",
              "      <td>155</td>\n",
              "    </tr>\n",
              "    <tr>\n",
              "      <th>unique</th>\n",
              "      <td>156</td>\n",
              "      <td>2</td>\n",
              "      <td>145</td>\n",
              "      <td>28</td>\n",
              "      <td>3</td>\n",
              "    </tr>\n",
              "    <tr>\n",
              "      <th>top</th>\n",
              "      <td>Turpin, Mr. William John Robert</td>\n",
              "      <td>male</td>\n",
              "      <td>19950</td>\n",
              "      <td>D26</td>\n",
              "      <td>S</td>\n",
              "    </tr>\n",
              "    <tr>\n",
              "      <th>freq</th>\n",
              "      <td>1</td>\n",
              "      <td>100</td>\n",
              "      <td>2</td>\n",
              "      <td>2</td>\n",
              "      <td>110</td>\n",
              "    </tr>\n",
              "  </tbody>\n",
              "</table>\n",
              "</div>"
            ],
            "text/plain": [
              "                                   Name   Sex Ticket Cabin Embarked\n",
              "count                               156   156    156    31      155\n",
              "unique                              156     2    145    28        3\n",
              "top     Turpin, Mr. William John Robert  male  19950   D26        S\n",
              "freq                                  1   100      2     2      110"
            ]
          },
          "metadata": {
            "tags": []
          },
          "execution_count": 6
        }
      ]
    },
    {
      "cell_type": "code",
      "metadata": {
        "id": "Lrnck_4KWWBA",
        "colab_type": "code",
        "colab": {
          "base_uri": "https://localhost:8080/",
          "height": 297
        },
        "outputId": "83753b5a-101d-438d-ed2d-c7f4ffaf76a8"
      },
      "source": [
        "titanic_train.describe()"
      ],
      "execution_count": 7,
      "outputs": [
        {
          "output_type": "execute_result",
          "data": {
            "text/html": [
              "<div>\n",
              "<style scoped>\n",
              "    .dataframe tbody tr th:only-of-type {\n",
              "        vertical-align: middle;\n",
              "    }\n",
              "\n",
              "    .dataframe tbody tr th {\n",
              "        vertical-align: top;\n",
              "    }\n",
              "\n",
              "    .dataframe thead th {\n",
              "        text-align: right;\n",
              "    }\n",
              "</style>\n",
              "<table border=\"1\" class=\"dataframe\">\n",
              "  <thead>\n",
              "    <tr style=\"text-align: right;\">\n",
              "      <th></th>\n",
              "      <th>PassengerId</th>\n",
              "      <th>Survived</th>\n",
              "      <th>Pclass</th>\n",
              "      <th>Age</th>\n",
              "      <th>SibSp</th>\n",
              "      <th>Parch</th>\n",
              "      <th>Fare</th>\n",
              "    </tr>\n",
              "  </thead>\n",
              "  <tbody>\n",
              "    <tr>\n",
              "      <th>count</th>\n",
              "      <td>156.000000</td>\n",
              "      <td>156.000000</td>\n",
              "      <td>156.000000</td>\n",
              "      <td>126.000000</td>\n",
              "      <td>156.000000</td>\n",
              "      <td>156.000000</td>\n",
              "      <td>156.000000</td>\n",
              "    </tr>\n",
              "    <tr>\n",
              "      <th>mean</th>\n",
              "      <td>78.500000</td>\n",
              "      <td>0.346154</td>\n",
              "      <td>2.423077</td>\n",
              "      <td>28.141508</td>\n",
              "      <td>0.615385</td>\n",
              "      <td>0.397436</td>\n",
              "      <td>28.109587</td>\n",
              "    </tr>\n",
              "    <tr>\n",
              "      <th>std</th>\n",
              "      <td>45.177428</td>\n",
              "      <td>0.477275</td>\n",
              "      <td>0.795459</td>\n",
              "      <td>14.613880</td>\n",
              "      <td>1.056235</td>\n",
              "      <td>0.870146</td>\n",
              "      <td>39.401047</td>\n",
              "    </tr>\n",
              "    <tr>\n",
              "      <th>min</th>\n",
              "      <td>1.000000</td>\n",
              "      <td>0.000000</td>\n",
              "      <td>1.000000</td>\n",
              "      <td>0.830000</td>\n",
              "      <td>0.000000</td>\n",
              "      <td>0.000000</td>\n",
              "      <td>6.750000</td>\n",
              "    </tr>\n",
              "    <tr>\n",
              "      <th>25%</th>\n",
              "      <td>39.750000</td>\n",
              "      <td>0.000000</td>\n",
              "      <td>2.000000</td>\n",
              "      <td>19.000000</td>\n",
              "      <td>0.000000</td>\n",
              "      <td>0.000000</td>\n",
              "      <td>8.003150</td>\n",
              "    </tr>\n",
              "    <tr>\n",
              "      <th>50%</th>\n",
              "      <td>78.500000</td>\n",
              "      <td>0.000000</td>\n",
              "      <td>3.000000</td>\n",
              "      <td>26.000000</td>\n",
              "      <td>0.000000</td>\n",
              "      <td>0.000000</td>\n",
              "      <td>14.454200</td>\n",
              "    </tr>\n",
              "    <tr>\n",
              "      <th>75%</th>\n",
              "      <td>117.250000</td>\n",
              "      <td>1.000000</td>\n",
              "      <td>3.000000</td>\n",
              "      <td>35.000000</td>\n",
              "      <td>1.000000</td>\n",
              "      <td>0.000000</td>\n",
              "      <td>30.371850</td>\n",
              "    </tr>\n",
              "    <tr>\n",
              "      <th>max</th>\n",
              "      <td>156.000000</td>\n",
              "      <td>1.000000</td>\n",
              "      <td>3.000000</td>\n",
              "      <td>71.000000</td>\n",
              "      <td>5.000000</td>\n",
              "      <td>5.000000</td>\n",
              "      <td>263.000000</td>\n",
              "    </tr>\n",
              "  </tbody>\n",
              "</table>\n",
              "</div>"
            ],
            "text/plain": [
              "       PassengerId    Survived      Pclass  ...       SibSp       Parch        Fare\n",
              "count   156.000000  156.000000  156.000000  ...  156.000000  156.000000  156.000000\n",
              "mean     78.500000    0.346154    2.423077  ...    0.615385    0.397436   28.109587\n",
              "std      45.177428    0.477275    0.795459  ...    1.056235    0.870146   39.401047\n",
              "min       1.000000    0.000000    1.000000  ...    0.000000    0.000000    6.750000\n",
              "25%      39.750000    0.000000    2.000000  ...    0.000000    0.000000    8.003150\n",
              "50%      78.500000    0.000000    3.000000  ...    0.000000    0.000000   14.454200\n",
              "75%     117.250000    1.000000    3.000000  ...    1.000000    0.000000   30.371850\n",
              "max     156.000000    1.000000    3.000000  ...    5.000000    5.000000  263.000000\n",
              "\n",
              "[8 rows x 7 columns]"
            ]
          },
          "metadata": {
            "tags": []
          },
          "execution_count": 7
        }
      ]
    },
    {
      "cell_type": "code",
      "metadata": {
        "id": "A590TbV3WWBE",
        "colab_type": "code",
        "colab": {
          "base_uri": "https://localhost:8080/",
          "height": 34
        },
        "outputId": "47085e28-dc25-44c8-87d2-863dfe7ffa95"
      },
      "source": [
        "titanic_train.dtypes[titanic_train.dtypes == \"object\"].index"
      ],
      "execution_count": 8,
      "outputs": [
        {
          "output_type": "execute_result",
          "data": {
            "text/plain": [
              "Index(['Name', 'Sex', 'Ticket', 'Cabin', 'Embarked'], dtype='object')"
            ]
          },
          "metadata": {
            "tags": []
          },
          "execution_count": 8
        }
      ]
    },
    {
      "cell_type": "code",
      "metadata": {
        "id": "XwfNXuZlWWBI",
        "colab_type": "code",
        "colab": {
          "base_uri": "https://localhost:8080/",
          "height": 34
        },
        "outputId": "57f114dd-4dd5-40bf-ea0c-10adea9f4045"
      },
      "source": [
        "titanic_train.dtypes[titanic_train.dtypes == \"object\"]\n",
        "\n",
        "\n",
        "titanic_train.dtypes[titanic_train.dtypes == \"object\"].index"
      ],
      "execution_count": 9,
      "outputs": [
        {
          "output_type": "execute_result",
          "data": {
            "text/plain": [
              "Index(['Name', 'Sex', 'Ticket', 'Cabin', 'Embarked'], dtype='object')"
            ]
          },
          "metadata": {
            "tags": []
          },
          "execution_count": 9
        }
      ]
    },
    {
      "cell_type": "code",
      "metadata": {
        "id": "D5PZzbyeWWBM",
        "colab_type": "code",
        "colab": {
          "base_uri": "https://localhost:8080/",
          "height": 119
        },
        "outputId": "f86ec06f-31a5-49e7-ccf3-71cd73a3b65a"
      },
      "source": [
        "titanic_train.dtypes[titanic_train.dtypes == \"object\"]"
      ],
      "execution_count": 10,
      "outputs": [
        {
          "output_type": "execute_result",
          "data": {
            "text/plain": [
              "Name        object\n",
              "Sex         object\n",
              "Ticket      object\n",
              "Cabin       object\n",
              "Embarked    object\n",
              "dtype: object"
            ]
          },
          "metadata": {
            "tags": []
          },
          "execution_count": 10
        }
      ]
    },
    {
      "cell_type": "code",
      "metadata": {
        "id": "2SPVhhd9WWBP",
        "colab_type": "code",
        "colab": {}
      },
      "source": [
        ""
      ],
      "execution_count": 10,
      "outputs": []
    },
    {
      "cell_type": "code",
      "metadata": {
        "scrolled": true,
        "id": "OIeqm-2TWWBY",
        "colab_type": "code",
        "colab": {
          "base_uri": "https://localhost:8080/",
          "height": 173
        },
        "outputId": "e4dbc9c6-60f4-42cb-8272-6e545871b6bc"
      },
      "source": [
        "list_col = titanic_train.dtypes[titanic_train.dtypes == \"object\"].index\n",
        "titanic_train[list_col].describe()"
      ],
      "execution_count": 11,
      "outputs": [
        {
          "output_type": "execute_result",
          "data": {
            "text/html": [
              "<div>\n",
              "<style scoped>\n",
              "    .dataframe tbody tr th:only-of-type {\n",
              "        vertical-align: middle;\n",
              "    }\n",
              "\n",
              "    .dataframe tbody tr th {\n",
              "        vertical-align: top;\n",
              "    }\n",
              "\n",
              "    .dataframe thead th {\n",
              "        text-align: right;\n",
              "    }\n",
              "</style>\n",
              "<table border=\"1\" class=\"dataframe\">\n",
              "  <thead>\n",
              "    <tr style=\"text-align: right;\">\n",
              "      <th></th>\n",
              "      <th>Name</th>\n",
              "      <th>Sex</th>\n",
              "      <th>Ticket</th>\n",
              "      <th>Cabin</th>\n",
              "      <th>Embarked</th>\n",
              "    </tr>\n",
              "  </thead>\n",
              "  <tbody>\n",
              "    <tr>\n",
              "      <th>count</th>\n",
              "      <td>156</td>\n",
              "      <td>156</td>\n",
              "      <td>156</td>\n",
              "      <td>31</td>\n",
              "      <td>155</td>\n",
              "    </tr>\n",
              "    <tr>\n",
              "      <th>unique</th>\n",
              "      <td>156</td>\n",
              "      <td>2</td>\n",
              "      <td>145</td>\n",
              "      <td>28</td>\n",
              "      <td>3</td>\n",
              "    </tr>\n",
              "    <tr>\n",
              "      <th>top</th>\n",
              "      <td>Turpin, Mr. William John Robert</td>\n",
              "      <td>male</td>\n",
              "      <td>19950</td>\n",
              "      <td>D26</td>\n",
              "      <td>S</td>\n",
              "    </tr>\n",
              "    <tr>\n",
              "      <th>freq</th>\n",
              "      <td>1</td>\n",
              "      <td>100</td>\n",
              "      <td>2</td>\n",
              "      <td>2</td>\n",
              "      <td>110</td>\n",
              "    </tr>\n",
              "  </tbody>\n",
              "</table>\n",
              "</div>"
            ],
            "text/plain": [
              "                                   Name   Sex Ticket Cabin Embarked\n",
              "count                               156   156    156    31      155\n",
              "unique                              156     2    145    28        3\n",
              "top     Turpin, Mr. William John Robert  male  19950   D26        S\n",
              "freq                                  1   100      2     2      110"
            ]
          },
          "metadata": {
            "tags": []
          },
          "execution_count": 11
        }
      ]
    },
    {
      "cell_type": "code",
      "metadata": {
        "id": "9ATH8WxCWWBb",
        "colab_type": "code",
        "colab": {
          "base_uri": "https://localhost:8080/",
          "height": 419
        },
        "outputId": "782831db-fbfd-45ea-88ee-6d35eaab6439"
      },
      "source": [
        "titanic_train[['Name','Sex','Age']]"
      ],
      "execution_count": 12,
      "outputs": [
        {
          "output_type": "execute_result",
          "data": {
            "text/html": [
              "<div>\n",
              "<style scoped>\n",
              "    .dataframe tbody tr th:only-of-type {\n",
              "        vertical-align: middle;\n",
              "    }\n",
              "\n",
              "    .dataframe tbody tr th {\n",
              "        vertical-align: top;\n",
              "    }\n",
              "\n",
              "    .dataframe thead th {\n",
              "        text-align: right;\n",
              "    }\n",
              "</style>\n",
              "<table border=\"1\" class=\"dataframe\">\n",
              "  <thead>\n",
              "    <tr style=\"text-align: right;\">\n",
              "      <th></th>\n",
              "      <th>Name</th>\n",
              "      <th>Sex</th>\n",
              "      <th>Age</th>\n",
              "    </tr>\n",
              "  </thead>\n",
              "  <tbody>\n",
              "    <tr>\n",
              "      <th>0</th>\n",
              "      <td>Braund, Mr. Owen Harris</td>\n",
              "      <td>male</td>\n",
              "      <td>22.0</td>\n",
              "    </tr>\n",
              "    <tr>\n",
              "      <th>1</th>\n",
              "      <td>Cumings, Mrs. John Bradley (Florence Briggs Th...</td>\n",
              "      <td>female</td>\n",
              "      <td>38.0</td>\n",
              "    </tr>\n",
              "    <tr>\n",
              "      <th>2</th>\n",
              "      <td>Heikkinen, Miss. Laina</td>\n",
              "      <td>female</td>\n",
              "      <td>26.0</td>\n",
              "    </tr>\n",
              "    <tr>\n",
              "      <th>3</th>\n",
              "      <td>Futrelle, Mrs. Jacques Heath (Lily May Peel)</td>\n",
              "      <td>female</td>\n",
              "      <td>35.0</td>\n",
              "    </tr>\n",
              "    <tr>\n",
              "      <th>4</th>\n",
              "      <td>Allen, Mr. William Henry</td>\n",
              "      <td>male</td>\n",
              "      <td>35.0</td>\n",
              "    </tr>\n",
              "    <tr>\n",
              "      <th>...</th>\n",
              "      <td>...</td>\n",
              "      <td>...</td>\n",
              "      <td>...</td>\n",
              "    </tr>\n",
              "    <tr>\n",
              "      <th>151</th>\n",
              "      <td>Pears, Mrs. Thomas (Edith Wearne)</td>\n",
              "      <td>female</td>\n",
              "      <td>22.0</td>\n",
              "    </tr>\n",
              "    <tr>\n",
              "      <th>152</th>\n",
              "      <td>Meo, Mr. Alfonzo</td>\n",
              "      <td>male</td>\n",
              "      <td>55.5</td>\n",
              "    </tr>\n",
              "    <tr>\n",
              "      <th>153</th>\n",
              "      <td>van Billiard, Mr. Austin Blyler</td>\n",
              "      <td>male</td>\n",
              "      <td>40.5</td>\n",
              "    </tr>\n",
              "    <tr>\n",
              "      <th>154</th>\n",
              "      <td>Olsen, Mr. Ole Martin</td>\n",
              "      <td>male</td>\n",
              "      <td>NaN</td>\n",
              "    </tr>\n",
              "    <tr>\n",
              "      <th>155</th>\n",
              "      <td>Williams, Mr. Charles Duane</td>\n",
              "      <td>male</td>\n",
              "      <td>51.0</td>\n",
              "    </tr>\n",
              "  </tbody>\n",
              "</table>\n",
              "<p>156 rows × 3 columns</p>\n",
              "</div>"
            ],
            "text/plain": [
              "                                                  Name     Sex   Age\n",
              "0                              Braund, Mr. Owen Harris    male  22.0\n",
              "1    Cumings, Mrs. John Bradley (Florence Briggs Th...  female  38.0\n",
              "2                               Heikkinen, Miss. Laina  female  26.0\n",
              "3         Futrelle, Mrs. Jacques Heath (Lily May Peel)  female  35.0\n",
              "4                             Allen, Mr. William Henry    male  35.0\n",
              "..                                                 ...     ...   ...\n",
              "151                  Pears, Mrs. Thomas (Edith Wearne)  female  22.0\n",
              "152                                   Meo, Mr. Alfonzo    male  55.5\n",
              "153                    van Billiard, Mr. Austin Blyler    male  40.5\n",
              "154                              Olsen, Mr. Ole Martin    male   NaN\n",
              "155                        Williams, Mr. Charles Duane    male  51.0\n",
              "\n",
              "[156 rows x 3 columns]"
            ]
          },
          "metadata": {
            "tags": []
          },
          "execution_count": 12
        }
      ]
    },
    {
      "cell_type": "code",
      "metadata": {
        "id": "KE3tNosrWWBe",
        "colab_type": "code",
        "colab": {
          "base_uri": "https://localhost:8080/",
          "height": 68
        },
        "outputId": "e9a8f389-a2d5-4d8b-f670-c85072e660d4"
      },
      "source": [
        "sorted(titanic_train[\"Name\"])[5:10:2]# Check the first 15 sorted names"
      ],
      "execution_count": 13,
      "outputs": [
        {
          "output_type": "execute_result",
          "data": {
            "text/plain": [
              "['Andersson, Mr. August Edvard (\"Wennerstrom\")',\n",
              " 'Andrew, Mr. Edgardo Samuel',\n",
              " 'Asplund, Mrs. Carl Oscar (Selma Augusta Emilia Johansson)']"
            ]
          },
          "metadata": {
            "tags": []
          },
          "execution_count": 13
        }
      ]
    },
    {
      "cell_type": "code",
      "metadata": {
        "id": "WTmsEA7xWWBh",
        "colab_type": "code",
        "colab": {
          "base_uri": "https://localhost:8080/",
          "height": 102
        },
        "outputId": "b8f2b927-9403-4df5-a0c5-f8f3a2d89b6b"
      },
      "source": [
        "titanic_train[\"Name\"].describe()"
      ],
      "execution_count": 14,
      "outputs": [
        {
          "output_type": "execute_result",
          "data": {
            "text/plain": [
              "count                                 156\n",
              "unique                                156\n",
              "top       Turpin, Mr. William John Robert\n",
              "freq                                    1\n",
              "Name: Name, dtype: object"
            ]
          },
          "metadata": {
            "tags": []
          },
          "execution_count": 14
        }
      ]
    },
    {
      "cell_type": "code",
      "metadata": {
        "id": "PXUqn54hWWBk",
        "colab_type": "code",
        "colab": {
          "base_uri": "https://localhost:8080/",
          "height": 204
        },
        "outputId": "c971312c-7d01-417e-cd16-9a908aa8d434"
      },
      "source": [
        "titanic_train[[\"Ticket\"]][4:9]"
      ],
      "execution_count": 15,
      "outputs": [
        {
          "output_type": "execute_result",
          "data": {
            "text/html": [
              "<div>\n",
              "<style scoped>\n",
              "    .dataframe tbody tr th:only-of-type {\n",
              "        vertical-align: middle;\n",
              "    }\n",
              "\n",
              "    .dataframe tbody tr th {\n",
              "        vertical-align: top;\n",
              "    }\n",
              "\n",
              "    .dataframe thead th {\n",
              "        text-align: right;\n",
              "    }\n",
              "</style>\n",
              "<table border=\"1\" class=\"dataframe\">\n",
              "  <thead>\n",
              "    <tr style=\"text-align: right;\">\n",
              "      <th></th>\n",
              "      <th>Ticket</th>\n",
              "    </tr>\n",
              "  </thead>\n",
              "  <tbody>\n",
              "    <tr>\n",
              "      <th>4</th>\n",
              "      <td>373450</td>\n",
              "    </tr>\n",
              "    <tr>\n",
              "      <th>5</th>\n",
              "      <td>330877</td>\n",
              "    </tr>\n",
              "    <tr>\n",
              "      <th>6</th>\n",
              "      <td>17463</td>\n",
              "    </tr>\n",
              "    <tr>\n",
              "      <th>7</th>\n",
              "      <td>349909</td>\n",
              "    </tr>\n",
              "    <tr>\n",
              "      <th>8</th>\n",
              "      <td>347742</td>\n",
              "    </tr>\n",
              "  </tbody>\n",
              "</table>\n",
              "</div>"
            ],
            "text/plain": [
              "   Ticket\n",
              "4  373450\n",
              "5  330877\n",
              "6   17463\n",
              "7  349909\n",
              "8  347742"
            ]
          },
          "metadata": {
            "tags": []
          },
          "execution_count": 15
        }
      ]
    },
    {
      "cell_type": "code",
      "metadata": {
        "id": "YJUXUxwWWWBo",
        "colab_type": "code",
        "colab": {
          "base_uri": "https://localhost:8080/",
          "height": 68
        },
        "outputId": "69224d9a-5b22-4d6a-d467-592320cec939"
      },
      "source": [
        "titanic_train[\"Ticket\"].describe()\n",
        "titanic_train.columns"
      ],
      "execution_count": 16,
      "outputs": [
        {
          "output_type": "execute_result",
          "data": {
            "text/plain": [
              "Index(['PassengerId', 'Survived', 'Pclass', 'Name', 'Sex', 'Age', 'SibSp',\n",
              "       'Parch', 'Ticket', 'Fare', 'Cabin', 'Embarked'],\n",
              "      dtype='object')"
            ]
          },
          "metadata": {
            "tags": []
          },
          "execution_count": 16
        }
      ]
    },
    {
      "cell_type": "code",
      "metadata": {
        "id": "TGB1iefhWWBr",
        "colab_type": "code",
        "colab": {
          "base_uri": "https://localhost:8080/",
          "height": 204
        },
        "outputId": "aeba763c-047c-49ea-ce36-1fac9b49f098"
      },
      "source": [
        "titanic_train[\"sudh\"]=\"sdffs\"\n",
        "titanic_train.head()"
      ],
      "execution_count": 17,
      "outputs": [
        {
          "output_type": "execute_result",
          "data": {
            "text/html": [
              "<div>\n",
              "<style scoped>\n",
              "    .dataframe tbody tr th:only-of-type {\n",
              "        vertical-align: middle;\n",
              "    }\n",
              "\n",
              "    .dataframe tbody tr th {\n",
              "        vertical-align: top;\n",
              "    }\n",
              "\n",
              "    .dataframe thead th {\n",
              "        text-align: right;\n",
              "    }\n",
              "</style>\n",
              "<table border=\"1\" class=\"dataframe\">\n",
              "  <thead>\n",
              "    <tr style=\"text-align: right;\">\n",
              "      <th></th>\n",
              "      <th>PassengerId</th>\n",
              "      <th>Survived</th>\n",
              "      <th>Pclass</th>\n",
              "      <th>Name</th>\n",
              "      <th>Sex</th>\n",
              "      <th>Age</th>\n",
              "      <th>SibSp</th>\n",
              "      <th>Parch</th>\n",
              "      <th>Ticket</th>\n",
              "      <th>Fare</th>\n",
              "      <th>Cabin</th>\n",
              "      <th>Embarked</th>\n",
              "      <th>sudh</th>\n",
              "    </tr>\n",
              "  </thead>\n",
              "  <tbody>\n",
              "    <tr>\n",
              "      <th>0</th>\n",
              "      <td>1</td>\n",
              "      <td>0</td>\n",
              "      <td>3</td>\n",
              "      <td>Braund, Mr. Owen Harris</td>\n",
              "      <td>male</td>\n",
              "      <td>22.0</td>\n",
              "      <td>1</td>\n",
              "      <td>0</td>\n",
              "      <td>A/5 21171</td>\n",
              "      <td>7.2500</td>\n",
              "      <td>NaN</td>\n",
              "      <td>S</td>\n",
              "      <td>sdffs</td>\n",
              "    </tr>\n",
              "    <tr>\n",
              "      <th>1</th>\n",
              "      <td>2</td>\n",
              "      <td>1</td>\n",
              "      <td>1</td>\n",
              "      <td>Cumings, Mrs. John Bradley (Florence Briggs Th...</td>\n",
              "      <td>female</td>\n",
              "      <td>38.0</td>\n",
              "      <td>1</td>\n",
              "      <td>0</td>\n",
              "      <td>PC 17599</td>\n",
              "      <td>71.2833</td>\n",
              "      <td>C85</td>\n",
              "      <td>C</td>\n",
              "      <td>sdffs</td>\n",
              "    </tr>\n",
              "    <tr>\n",
              "      <th>2</th>\n",
              "      <td>3</td>\n",
              "      <td>1</td>\n",
              "      <td>3</td>\n",
              "      <td>Heikkinen, Miss. Laina</td>\n",
              "      <td>female</td>\n",
              "      <td>26.0</td>\n",
              "      <td>0</td>\n",
              "      <td>0</td>\n",
              "      <td>STON/O2. 3101282</td>\n",
              "      <td>7.9250</td>\n",
              "      <td>NaN</td>\n",
              "      <td>S</td>\n",
              "      <td>sdffs</td>\n",
              "    </tr>\n",
              "    <tr>\n",
              "      <th>3</th>\n",
              "      <td>4</td>\n",
              "      <td>1</td>\n",
              "      <td>1</td>\n",
              "      <td>Futrelle, Mrs. Jacques Heath (Lily May Peel)</td>\n",
              "      <td>female</td>\n",
              "      <td>35.0</td>\n",
              "      <td>1</td>\n",
              "      <td>0</td>\n",
              "      <td>113803</td>\n",
              "      <td>53.1000</td>\n",
              "      <td>C123</td>\n",
              "      <td>S</td>\n",
              "      <td>sdffs</td>\n",
              "    </tr>\n",
              "    <tr>\n",
              "      <th>4</th>\n",
              "      <td>5</td>\n",
              "      <td>0</td>\n",
              "      <td>3</td>\n",
              "      <td>Allen, Mr. William Henry</td>\n",
              "      <td>male</td>\n",
              "      <td>35.0</td>\n",
              "      <td>0</td>\n",
              "      <td>0</td>\n",
              "      <td>373450</td>\n",
              "      <td>8.0500</td>\n",
              "      <td>NaN</td>\n",
              "      <td>S</td>\n",
              "      <td>sdffs</td>\n",
              "    </tr>\n",
              "  </tbody>\n",
              "</table>\n",
              "</div>"
            ],
            "text/plain": [
              "   PassengerId  Survived  Pclass  ... Cabin Embarked   sudh\n",
              "0            1         0       3  ...   NaN        S  sdffs\n",
              "1            2         1       1  ...   C85        C  sdffs\n",
              "2            3         1       3  ...   NaN        S  sdffs\n",
              "3            4         1       1  ...  C123        S  sdffs\n",
              "4            5         0       3  ...   NaN        S  sdffs\n",
              "\n",
              "[5 rows x 13 columns]"
            ]
          },
          "metadata": {
            "tags": []
          },
          "execution_count": 17
        }
      ]
    },
    {
      "cell_type": "code",
      "metadata": {
        "id": "uarRXj8vWWBw",
        "colab_type": "code",
        "colab": {
          "base_uri": "https://localhost:8080/",
          "height": 289
        },
        "outputId": "eeafe637-7dd6-40f3-cca5-dcf23eb4c09c"
      },
      "source": [
        "titanic_train[\"Cabin\"][0:15]       # Check the first 15 tickets"
      ],
      "execution_count": 18,
      "outputs": [
        {
          "output_type": "execute_result",
          "data": {
            "text/plain": [
              "0      NaN\n",
              "1      C85\n",
              "2      NaN\n",
              "3     C123\n",
              "4      NaN\n",
              "5      NaN\n",
              "6      E46\n",
              "7      NaN\n",
              "8      NaN\n",
              "9      NaN\n",
              "10      G6\n",
              "11    C103\n",
              "12     NaN\n",
              "13     NaN\n",
              "14     NaN\n",
              "Name: Cabin, dtype: object"
            ]
          },
          "metadata": {
            "tags": []
          },
          "execution_count": 18
        }
      ]
    },
    {
      "cell_type": "code",
      "metadata": {
        "id": "iMkWiLwQWWBz",
        "colab_type": "code",
        "colab": {
          "base_uri": "https://localhost:8080/",
          "height": 255
        },
        "outputId": "c40b2fd0-e625-4a83-bf54-a6d2071f7286"
      },
      "source": [
        "titanic_train.dtypes# Check number of unique cabins"
      ],
      "execution_count": 19,
      "outputs": [
        {
          "output_type": "execute_result",
          "data": {
            "text/plain": [
              "PassengerId      int64\n",
              "Survived         int64\n",
              "Pclass           int64\n",
              "Name            object\n",
              "Sex             object\n",
              "Age            float64\n",
              "SibSp            int64\n",
              "Parch            int64\n",
              "Ticket          object\n",
              "Fare           float64\n",
              "Cabin           object\n",
              "Embarked        object\n",
              "sudh            object\n",
              "dtype: object"
            ]
          },
          "metadata": {
            "tags": []
          },
          "execution_count": 19
        }
      ]
    },
    {
      "cell_type": "code",
      "metadata": {
        "id": "aGb1BNlKWWB2",
        "colab_type": "code",
        "colab": {}
      },
      "source": [
        ""
      ],
      "execution_count": 19,
      "outputs": []
    },
    {
      "cell_type": "code",
      "metadata": {
        "id": "eHuJxZ-JWWB5",
        "colab_type": "code",
        "colab": {
          "base_uri": "https://localhost:8080/",
          "height": 221
        },
        "outputId": "260461a9-9777-467e-cadb-f66818e7417c"
      },
      "source": [
        "titanic_train[\"Survived\"]"
      ],
      "execution_count": 20,
      "outputs": [
        {
          "output_type": "execute_result",
          "data": {
            "text/plain": [
              "0      0\n",
              "1      1\n",
              "2      1\n",
              "3      1\n",
              "4      0\n",
              "      ..\n",
              "151    1\n",
              "152    0\n",
              "153    0\n",
              "154    0\n",
              "155    0\n",
              "Name: Survived, Length: 156, dtype: int64"
            ]
          },
          "metadata": {
            "tags": []
          },
          "execution_count": 20
        }
      ]
    },
    {
      "cell_type": "code",
      "metadata": {
        "id": "fFCAi4aQWWB8",
        "colab_type": "code",
        "colab": {
          "base_uri": "https://localhost:8080/",
          "height": 68
        },
        "outputId": "71c4c3fc-9ca9-43b5-c7ed-520fc1ee1c87"
      },
      "source": [
        "titanic_train.columns"
      ],
      "execution_count": 21,
      "outputs": [
        {
          "output_type": "execute_result",
          "data": {
            "text/plain": [
              "Index(['PassengerId', 'Survived', 'Pclass', 'Name', 'Sex', 'Age', 'SibSp',\n",
              "       'Parch', 'Ticket', 'Fare', 'Cabin', 'Embarked', 'sudh'],\n",
              "      dtype='object')"
            ]
          },
          "metadata": {
            "tags": []
          },
          "execution_count": 21
        }
      ]
    },
    {
      "cell_type": "code",
      "metadata": {
        "id": "9ILvxr6DWWB_",
        "colab_type": "code",
        "colab": {
          "base_uri": "https://localhost:8080/",
          "height": 297
        },
        "outputId": "2d0402f6-9e51-4c76-cf71-18a7c2c5bd58"
      },
      "source": [
        "titanic_train.describe()"
      ],
      "execution_count": 22,
      "outputs": [
        {
          "output_type": "execute_result",
          "data": {
            "text/html": [
              "<div>\n",
              "<style scoped>\n",
              "    .dataframe tbody tr th:only-of-type {\n",
              "        vertical-align: middle;\n",
              "    }\n",
              "\n",
              "    .dataframe tbody tr th {\n",
              "        vertical-align: top;\n",
              "    }\n",
              "\n",
              "    .dataframe thead th {\n",
              "        text-align: right;\n",
              "    }\n",
              "</style>\n",
              "<table border=\"1\" class=\"dataframe\">\n",
              "  <thead>\n",
              "    <tr style=\"text-align: right;\">\n",
              "      <th></th>\n",
              "      <th>PassengerId</th>\n",
              "      <th>Survived</th>\n",
              "      <th>Pclass</th>\n",
              "      <th>Age</th>\n",
              "      <th>SibSp</th>\n",
              "      <th>Parch</th>\n",
              "      <th>Fare</th>\n",
              "    </tr>\n",
              "  </thead>\n",
              "  <tbody>\n",
              "    <tr>\n",
              "      <th>count</th>\n",
              "      <td>156.000000</td>\n",
              "      <td>156.000000</td>\n",
              "      <td>156.000000</td>\n",
              "      <td>126.000000</td>\n",
              "      <td>156.000000</td>\n",
              "      <td>156.000000</td>\n",
              "      <td>156.000000</td>\n",
              "    </tr>\n",
              "    <tr>\n",
              "      <th>mean</th>\n",
              "      <td>78.500000</td>\n",
              "      <td>0.346154</td>\n",
              "      <td>2.423077</td>\n",
              "      <td>28.141508</td>\n",
              "      <td>0.615385</td>\n",
              "      <td>0.397436</td>\n",
              "      <td>28.109587</td>\n",
              "    </tr>\n",
              "    <tr>\n",
              "      <th>std</th>\n",
              "      <td>45.177428</td>\n",
              "      <td>0.477275</td>\n",
              "      <td>0.795459</td>\n",
              "      <td>14.613880</td>\n",
              "      <td>1.056235</td>\n",
              "      <td>0.870146</td>\n",
              "      <td>39.401047</td>\n",
              "    </tr>\n",
              "    <tr>\n",
              "      <th>min</th>\n",
              "      <td>1.000000</td>\n",
              "      <td>0.000000</td>\n",
              "      <td>1.000000</td>\n",
              "      <td>0.830000</td>\n",
              "      <td>0.000000</td>\n",
              "      <td>0.000000</td>\n",
              "      <td>6.750000</td>\n",
              "    </tr>\n",
              "    <tr>\n",
              "      <th>25%</th>\n",
              "      <td>39.750000</td>\n",
              "      <td>0.000000</td>\n",
              "      <td>2.000000</td>\n",
              "      <td>19.000000</td>\n",
              "      <td>0.000000</td>\n",
              "      <td>0.000000</td>\n",
              "      <td>8.003150</td>\n",
              "    </tr>\n",
              "    <tr>\n",
              "      <th>50%</th>\n",
              "      <td>78.500000</td>\n",
              "      <td>0.000000</td>\n",
              "      <td>3.000000</td>\n",
              "      <td>26.000000</td>\n",
              "      <td>0.000000</td>\n",
              "      <td>0.000000</td>\n",
              "      <td>14.454200</td>\n",
              "    </tr>\n",
              "    <tr>\n",
              "      <th>75%</th>\n",
              "      <td>117.250000</td>\n",
              "      <td>1.000000</td>\n",
              "      <td>3.000000</td>\n",
              "      <td>35.000000</td>\n",
              "      <td>1.000000</td>\n",
              "      <td>0.000000</td>\n",
              "      <td>30.371850</td>\n",
              "    </tr>\n",
              "    <tr>\n",
              "      <th>max</th>\n",
              "      <td>156.000000</td>\n",
              "      <td>1.000000</td>\n",
              "      <td>3.000000</td>\n",
              "      <td>71.000000</td>\n",
              "      <td>5.000000</td>\n",
              "      <td>5.000000</td>\n",
              "      <td>263.000000</td>\n",
              "    </tr>\n",
              "  </tbody>\n",
              "</table>\n",
              "</div>"
            ],
            "text/plain": [
              "       PassengerId    Survived      Pclass  ...       SibSp       Parch        Fare\n",
              "count   156.000000  156.000000  156.000000  ...  156.000000  156.000000  156.000000\n",
              "mean     78.500000    0.346154    2.423077  ...    0.615385    0.397436   28.109587\n",
              "std      45.177428    0.477275    0.795459  ...    1.056235    0.870146   39.401047\n",
              "min       1.000000    0.000000    1.000000  ...    0.000000    0.000000    6.750000\n",
              "25%      39.750000    0.000000    2.000000  ...    0.000000    0.000000    8.003150\n",
              "50%      78.500000    0.000000    3.000000  ...    0.000000    0.000000   14.454200\n",
              "75%     117.250000    1.000000    3.000000  ...    1.000000    0.000000   30.371850\n",
              "max     156.000000    1.000000    3.000000  ...    5.000000    5.000000  263.000000\n",
              "\n",
              "[8 rows x 7 columns]"
            ]
          },
          "metadata": {
            "tags": []
          },
          "execution_count": 22
        }
      ]
    },
    {
      "cell_type": "code",
      "metadata": {
        "id": "LDOfgbvzWWCD",
        "colab_type": "code",
        "colab": {
          "base_uri": "https://localhost:8080/",
          "height": 68
        },
        "outputId": "6aac8b24-9f79-4f57-ffe7-904c7c0d4f7c"
      },
      "source": [
        "new_Pclass = pd.Categorical(titanic_train[\"Pclass\"])\n",
        "\n",
        "new_Pclass"
      ],
      "execution_count": 23,
      "outputs": [
        {
          "output_type": "execute_result",
          "data": {
            "text/plain": [
              "[3, 1, 3, 1, 3, ..., 1, 3, 3, 3, 1]\n",
              "Length: 156\n",
              "Categories (3, int64): [1, 2, 3]"
            ]
          },
          "metadata": {
            "tags": []
          },
          "execution_count": 23
        }
      ]
    },
    {
      "cell_type": "code",
      "metadata": {
        "id": "1fc4rwBGWWCH",
        "colab_type": "code",
        "colab": {
          "base_uri": "https://localhost:8080/",
          "height": 68
        },
        "outputId": "c0a01b62-3b16-4aa1-de8f-679675642287"
      },
      "source": [
        "new_Pclass = pd.Categorical(titanic_train[\"Pclass\"])\n",
        "new_Pclass"
      ],
      "execution_count": 24,
      "outputs": [
        {
          "output_type": "execute_result",
          "data": {
            "text/plain": [
              "[3, 1, 3, 1, 3, ..., 1, 3, 3, 3, 1]\n",
              "Length: 156\n",
              "Categories (3, int64): [1, 2, 3]"
            ]
          },
          "metadata": {
            "tags": []
          },
          "execution_count": 24
        }
      ]
    },
    {
      "cell_type": "code",
      "metadata": {
        "id": "O3a6SXOxWWCL",
        "colab_type": "code",
        "colab": {
          "base_uri": "https://localhost:8080/",
          "height": 85
        },
        "outputId": "74c18016-45ce-4faa-d0aa-fd4c8a91d835"
      },
      "source": [
        "titanic_train[\"Cabin\"].unique()   # Check unique cabins"
      ],
      "execution_count": 25,
      "outputs": [
        {
          "output_type": "execute_result",
          "data": {
            "text/plain": [
              "array([nan, 'C85', 'C123', 'E46', 'G6', 'C103', 'D56', 'A6',\n",
              "       'C23 C25 C27', 'B78', 'D33', 'B30', 'C52', 'B28', 'C83', 'F33',\n",
              "       'F G73', 'E31', 'A5', 'D10 D12', 'D26', 'C110', 'B58 B60', 'E101',\n",
              "       'F E69', 'D47', 'B86', 'F2', 'C2'], dtype=object)"
            ]
          },
          "metadata": {
            "tags": []
          },
          "execution_count": 25
        }
      ]
    },
    {
      "cell_type": "code",
      "metadata": {
        "id": "h86Mg9MdWWCO",
        "colab_type": "code",
        "colab": {
          "base_uri": "https://localhost:8080/",
          "height": 68
        },
        "outputId": "5afc78cd-5a33-49a1-ece8-270cdf9260e8"
      },
      "source": [
        "import numpy as np \n",
        "char_cabin = titanic_train[\"Cabin\"].astype(str) # Convert data to str\n",
        "\n",
        "new_Cabin = [cabin[0] for cabin in char_cabin] # Take first letter\n",
        "\n",
        "new_Cabin = pd.Categorical(new_Cabin)\n",
        "#new_Cabin\n",
        "new_Cabin\n"
      ],
      "execution_count": 26,
      "outputs": [
        {
          "output_type": "execute_result",
          "data": {
            "text/plain": [
              "[n, C, n, C, n, ..., C, n, n, n, n]\n",
              "Length: 156\n",
              "Categories (8, object): [A, B, C, D, E, F, G, n]"
            ]
          },
          "metadata": {
            "tags": []
          },
          "execution_count": 26
        }
      ]
    },
    {
      "cell_type": "code",
      "metadata": {
        "id": "jBeeeMpgWWCR",
        "colab_type": "code",
        "colab": {
          "base_uri": "https://localhost:8080/",
          "height": 204
        },
        "outputId": "36832437-6e8f-4580-8625-ea599a44fde5"
      },
      "source": [
        "titanic_train[\"Cabin\"] = new_Cabin\n",
        "titanic_train.head()"
      ],
      "execution_count": 27,
      "outputs": [
        {
          "output_type": "execute_result",
          "data": {
            "text/html": [
              "<div>\n",
              "<style scoped>\n",
              "    .dataframe tbody tr th:only-of-type {\n",
              "        vertical-align: middle;\n",
              "    }\n",
              "\n",
              "    .dataframe tbody tr th {\n",
              "        vertical-align: top;\n",
              "    }\n",
              "\n",
              "    .dataframe thead th {\n",
              "        text-align: right;\n",
              "    }\n",
              "</style>\n",
              "<table border=\"1\" class=\"dataframe\">\n",
              "  <thead>\n",
              "    <tr style=\"text-align: right;\">\n",
              "      <th></th>\n",
              "      <th>PassengerId</th>\n",
              "      <th>Survived</th>\n",
              "      <th>Pclass</th>\n",
              "      <th>Name</th>\n",
              "      <th>Sex</th>\n",
              "      <th>Age</th>\n",
              "      <th>SibSp</th>\n",
              "      <th>Parch</th>\n",
              "      <th>Ticket</th>\n",
              "      <th>Fare</th>\n",
              "      <th>Cabin</th>\n",
              "      <th>Embarked</th>\n",
              "      <th>sudh</th>\n",
              "    </tr>\n",
              "  </thead>\n",
              "  <tbody>\n",
              "    <tr>\n",
              "      <th>0</th>\n",
              "      <td>1</td>\n",
              "      <td>0</td>\n",
              "      <td>3</td>\n",
              "      <td>Braund, Mr. Owen Harris</td>\n",
              "      <td>male</td>\n",
              "      <td>22.0</td>\n",
              "      <td>1</td>\n",
              "      <td>0</td>\n",
              "      <td>A/5 21171</td>\n",
              "      <td>7.2500</td>\n",
              "      <td>n</td>\n",
              "      <td>S</td>\n",
              "      <td>sdffs</td>\n",
              "    </tr>\n",
              "    <tr>\n",
              "      <th>1</th>\n",
              "      <td>2</td>\n",
              "      <td>1</td>\n",
              "      <td>1</td>\n",
              "      <td>Cumings, Mrs. John Bradley (Florence Briggs Th...</td>\n",
              "      <td>female</td>\n",
              "      <td>38.0</td>\n",
              "      <td>1</td>\n",
              "      <td>0</td>\n",
              "      <td>PC 17599</td>\n",
              "      <td>71.2833</td>\n",
              "      <td>C</td>\n",
              "      <td>C</td>\n",
              "      <td>sdffs</td>\n",
              "    </tr>\n",
              "    <tr>\n",
              "      <th>2</th>\n",
              "      <td>3</td>\n",
              "      <td>1</td>\n",
              "      <td>3</td>\n",
              "      <td>Heikkinen, Miss. Laina</td>\n",
              "      <td>female</td>\n",
              "      <td>26.0</td>\n",
              "      <td>0</td>\n",
              "      <td>0</td>\n",
              "      <td>STON/O2. 3101282</td>\n",
              "      <td>7.9250</td>\n",
              "      <td>n</td>\n",
              "      <td>S</td>\n",
              "      <td>sdffs</td>\n",
              "    </tr>\n",
              "    <tr>\n",
              "      <th>3</th>\n",
              "      <td>4</td>\n",
              "      <td>1</td>\n",
              "      <td>1</td>\n",
              "      <td>Futrelle, Mrs. Jacques Heath (Lily May Peel)</td>\n",
              "      <td>female</td>\n",
              "      <td>35.0</td>\n",
              "      <td>1</td>\n",
              "      <td>0</td>\n",
              "      <td>113803</td>\n",
              "      <td>53.1000</td>\n",
              "      <td>C</td>\n",
              "      <td>S</td>\n",
              "      <td>sdffs</td>\n",
              "    </tr>\n",
              "    <tr>\n",
              "      <th>4</th>\n",
              "      <td>5</td>\n",
              "      <td>0</td>\n",
              "      <td>3</td>\n",
              "      <td>Allen, Mr. William Henry</td>\n",
              "      <td>male</td>\n",
              "      <td>35.0</td>\n",
              "      <td>0</td>\n",
              "      <td>0</td>\n",
              "      <td>373450</td>\n",
              "      <td>8.0500</td>\n",
              "      <td>n</td>\n",
              "      <td>S</td>\n",
              "      <td>sdffs</td>\n",
              "    </tr>\n",
              "  </tbody>\n",
              "</table>\n",
              "</div>"
            ],
            "text/plain": [
              "   PassengerId  Survived  Pclass  ... Cabin Embarked   sudh\n",
              "0            1         0       3  ...     n        S  sdffs\n",
              "1            2         1       1  ...     C        C  sdffs\n",
              "2            3         1       3  ...     n        S  sdffs\n",
              "3            4         1       1  ...     C        S  sdffs\n",
              "4            5         0       3  ...     n        S  sdffs\n",
              "\n",
              "[5 rows x 13 columns]"
            ]
          },
          "metadata": {
            "tags": []
          },
          "execution_count": 27
        }
      ]
    },
    {
      "cell_type": "code",
      "metadata": {
        "id": "UfRYeAx0WWCU",
        "colab_type": "code",
        "colab": {
          "base_uri": "https://localhost:8080/",
          "height": 221
        },
        "outputId": "37125457-a59a-447e-e88a-f934dbae98e3"
      },
      "source": [
        "titanic_train[\"Age\"].isnull() "
      ],
      "execution_count": 28,
      "outputs": [
        {
          "output_type": "execute_result",
          "data": {
            "text/plain": [
              "0      False\n",
              "1      False\n",
              "2      False\n",
              "3      False\n",
              "4      False\n",
              "       ...  \n",
              "151    False\n",
              "152    False\n",
              "153    False\n",
              "154     True\n",
              "155    False\n",
              "Name: Age, Length: 156, dtype: bool"
            ]
          },
          "metadata": {
            "tags": []
          },
          "execution_count": 28
        }
      ]
    },
    {
      "cell_type": "code",
      "metadata": {
        "id": "SIg5g1V-WWCW",
        "colab_type": "code",
        "colab": {
          "base_uri": "https://localhost:8080/",
          "height": 68
        },
        "outputId": "47715813-60fa-4bd4-f8d7-c65be426c19e"
      },
      "source": [
        "missing = np.where(titanic_train[\"Age\"].isnull() == True)\n",
        "missing"
      ],
      "execution_count": 29,
      "outputs": [
        {
          "output_type": "execute_result",
          "data": {
            "text/plain": [
              "(array([  5,  17,  19,  26,  28,  29,  31,  32,  36,  42,  45,  46,  47,\n",
              "         48,  55,  64,  65,  76,  77,  82,  87,  95, 101, 107, 109, 121,\n",
              "        126, 128, 140, 154]),)"
            ]
          },
          "metadata": {
            "tags": []
          },
          "execution_count": 29
        }
      ]
    },
    {
      "cell_type": "code",
      "metadata": {
        "id": "b4yCNjGmWWCb",
        "colab_type": "code",
        "colab": {
          "base_uri": "https://localhost:8080/",
          "height": 34
        },
        "outputId": "d30f1914-66ae-4ee4-dd0f-db6714c0896b"
      },
      "source": [
        "np.where(titanic_train[\"Fare\"]==max(titanic_train[\"Fare\"]))"
      ],
      "execution_count": 30,
      "outputs": [
        {
          "output_type": "execute_result",
          "data": {
            "text/plain": [
              "(array([27, 88]),)"
            ]
          },
          "metadata": {
            "tags": []
          },
          "execution_count": 30
        }
      ]
    },
    {
      "cell_type": "code",
      "metadata": {
        "id": "coRSevJGWWCd",
        "colab_type": "code",
        "colab": {
          "base_uri": "https://localhost:8080/",
          "height": 111
        },
        "outputId": "c5409add-acd6-49e0-f63d-ceacf897d4d8"
      },
      "source": [
        "titanic_train.iloc[np.where(titanic_train[\"Fare\"]==max(titanic_train[\"Fare\"]))]"
      ],
      "execution_count": 31,
      "outputs": [
        {
          "output_type": "execute_result",
          "data": {
            "text/html": [
              "<div>\n",
              "<style scoped>\n",
              "    .dataframe tbody tr th:only-of-type {\n",
              "        vertical-align: middle;\n",
              "    }\n",
              "\n",
              "    .dataframe tbody tr th {\n",
              "        vertical-align: top;\n",
              "    }\n",
              "\n",
              "    .dataframe thead th {\n",
              "        text-align: right;\n",
              "    }\n",
              "</style>\n",
              "<table border=\"1\" class=\"dataframe\">\n",
              "  <thead>\n",
              "    <tr style=\"text-align: right;\">\n",
              "      <th></th>\n",
              "      <th>PassengerId</th>\n",
              "      <th>Survived</th>\n",
              "      <th>Pclass</th>\n",
              "      <th>Name</th>\n",
              "      <th>Sex</th>\n",
              "      <th>Age</th>\n",
              "      <th>SibSp</th>\n",
              "      <th>Parch</th>\n",
              "      <th>Ticket</th>\n",
              "      <th>Fare</th>\n",
              "      <th>Cabin</th>\n",
              "      <th>Embarked</th>\n",
              "      <th>sudh</th>\n",
              "    </tr>\n",
              "  </thead>\n",
              "  <tbody>\n",
              "    <tr>\n",
              "      <th>27</th>\n",
              "      <td>28</td>\n",
              "      <td>0</td>\n",
              "      <td>1</td>\n",
              "      <td>Fortune, Mr. Charles Alexander</td>\n",
              "      <td>male</td>\n",
              "      <td>19.0</td>\n",
              "      <td>3</td>\n",
              "      <td>2</td>\n",
              "      <td>19950</td>\n",
              "      <td>263.0</td>\n",
              "      <td>C</td>\n",
              "      <td>S</td>\n",
              "      <td>sdffs</td>\n",
              "    </tr>\n",
              "    <tr>\n",
              "      <th>88</th>\n",
              "      <td>89</td>\n",
              "      <td>1</td>\n",
              "      <td>1</td>\n",
              "      <td>Fortune, Miss. Mabel Helen</td>\n",
              "      <td>female</td>\n",
              "      <td>23.0</td>\n",
              "      <td>3</td>\n",
              "      <td>2</td>\n",
              "      <td>19950</td>\n",
              "      <td>263.0</td>\n",
              "      <td>C</td>\n",
              "      <td>S</td>\n",
              "      <td>sdffs</td>\n",
              "    </tr>\n",
              "  </tbody>\n",
              "</table>\n",
              "</div>"
            ],
            "text/plain": [
              "    PassengerId  Survived  Pclass  ... Cabin Embarked   sudh\n",
              "27           28         0       1  ...     C        S  sdffs\n",
              "88           89         1       1  ...     C        S  sdffs\n",
              "\n",
              "[2 rows x 13 columns]"
            ]
          },
          "metadata": {
            "tags": []
          },
          "execution_count": 31
        }
      ]
    },
    {
      "cell_type": "code",
      "metadata": {
        "id": "LBc_-7TmWWCg",
        "colab_type": "code",
        "colab": {
          "base_uri": "https://localhost:8080/",
          "height": 34
        },
        "outputId": "7046d699-6f97-4682-bf99-5f11ba914b5f"
      },
      "source": [
        "np.where(titanic_train[\"Fare\"]==max(titanic_train[\"Fare\"]))"
      ],
      "execution_count": 32,
      "outputs": [
        {
          "output_type": "execute_result",
          "data": {
            "text/plain": [
              "(array([27, 88]),)"
            ]
          },
          "metadata": {
            "tags": []
          },
          "execution_count": 32
        }
      ]
    },
    {
      "cell_type": "code",
      "metadata": {
        "id": "xRUatk-fWWCj",
        "colab_type": "code",
        "colab": {}
      },
      "source": [
        ""
      ],
      "execution_count": 32,
      "outputs": []
    },
    {
      "cell_type": "code",
      "metadata": {
        "id": "FPv_smbBWWCl",
        "colab_type": "code",
        "colab": {
          "base_uri": "https://localhost:8080/",
          "height": 34
        },
        "outputId": "3ab6218e-ac48-4dcf-c861-09af3454f392"
      },
      "source": [
        "len(missing[0])"
      ],
      "execution_count": 33,
      "outputs": [
        {
          "output_type": "execute_result",
          "data": {
            "text/plain": [
              "30"
            ]
          },
          "metadata": {
            "tags": []
          },
          "execution_count": 33
        }
      ]
    },
    {
      "cell_type": "code",
      "metadata": {
        "id": "pBHGz0sfWWCo",
        "colab_type": "code",
        "colab": {
          "base_uri": "https://localhost:8080/",
          "height": 34
        },
        "outputId": "edd2d8ba-8bab-4f06-f514-91928018ced1"
      },
      "source": [
        "titanic_train[\"Family\"] = titanic_train[\"SibSp\"] + titanic_train[\"Parch\"]\n",
        "titanic_train[\"Family\"]\n",
        "most_family = np.where(titanic_train[\"Family\"] == max(titanic_train[\"Family\"]))\n",
        "most_family"
      ],
      "execution_count": 34,
      "outputs": [
        {
          "output_type": "execute_result",
          "data": {
            "text/plain": [
              "(array([59, 71]),)"
            ]
          },
          "metadata": {
            "tags": []
          },
          "execution_count": 34
        }
      ]
    },
    {
      "cell_type": "code",
      "metadata": {
        "id": "wOet4esDWWCr",
        "colab_type": "code",
        "colab": {
          "base_uri": "https://localhost:8080/",
          "height": 111
        },
        "outputId": "ea690a98-4af7-4e10-cc27-4637965c0b40"
      },
      "source": [
        "titanic_train[\"Family\"] = titanic_train[\"SibSp\"] + titanic_train[\"Parch\"]\n",
        "\n",
        "most_family = np.where(titanic_train[\"Family\"] == max(titanic_train[\"Family\"]))\n",
        "most_family\n",
        "titanic_train.iloc[most_family]"
      ],
      "execution_count": 35,
      "outputs": [
        {
          "output_type": "execute_result",
          "data": {
            "text/html": [
              "<div>\n",
              "<style scoped>\n",
              "    .dataframe tbody tr th:only-of-type {\n",
              "        vertical-align: middle;\n",
              "    }\n",
              "\n",
              "    .dataframe tbody tr th {\n",
              "        vertical-align: top;\n",
              "    }\n",
              "\n",
              "    .dataframe thead th {\n",
              "        text-align: right;\n",
              "    }\n",
              "</style>\n",
              "<table border=\"1\" class=\"dataframe\">\n",
              "  <thead>\n",
              "    <tr style=\"text-align: right;\">\n",
              "      <th></th>\n",
              "      <th>PassengerId</th>\n",
              "      <th>Survived</th>\n",
              "      <th>Pclass</th>\n",
              "      <th>Name</th>\n",
              "      <th>Sex</th>\n",
              "      <th>Age</th>\n",
              "      <th>SibSp</th>\n",
              "      <th>Parch</th>\n",
              "      <th>Ticket</th>\n",
              "      <th>Fare</th>\n",
              "      <th>Cabin</th>\n",
              "      <th>Embarked</th>\n",
              "      <th>sudh</th>\n",
              "      <th>Family</th>\n",
              "    </tr>\n",
              "  </thead>\n",
              "  <tbody>\n",
              "    <tr>\n",
              "      <th>59</th>\n",
              "      <td>60</td>\n",
              "      <td>0</td>\n",
              "      <td>3</td>\n",
              "      <td>Goodwin, Master. William Frederick</td>\n",
              "      <td>male</td>\n",
              "      <td>11.0</td>\n",
              "      <td>5</td>\n",
              "      <td>2</td>\n",
              "      <td>CA 2144</td>\n",
              "      <td>46.9</td>\n",
              "      <td>n</td>\n",
              "      <td>S</td>\n",
              "      <td>sdffs</td>\n",
              "      <td>7</td>\n",
              "    </tr>\n",
              "    <tr>\n",
              "      <th>71</th>\n",
              "      <td>72</td>\n",
              "      <td>0</td>\n",
              "      <td>3</td>\n",
              "      <td>Goodwin, Miss. Lillian Amy</td>\n",
              "      <td>female</td>\n",
              "      <td>16.0</td>\n",
              "      <td>5</td>\n",
              "      <td>2</td>\n",
              "      <td>CA 2144</td>\n",
              "      <td>46.9</td>\n",
              "      <td>n</td>\n",
              "      <td>S</td>\n",
              "      <td>sdffs</td>\n",
              "      <td>7</td>\n",
              "    </tr>\n",
              "  </tbody>\n",
              "</table>\n",
              "</div>"
            ],
            "text/plain": [
              "    PassengerId  Survived  Pclass  ... Embarked   sudh  Family\n",
              "59           60         0       3  ...        S  sdffs       7\n",
              "71           72         0       3  ...        S  sdffs       7\n",
              "\n",
              "[2 rows x 14 columns]"
            ]
          },
          "metadata": {
            "tags": []
          },
          "execution_count": 35
        }
      ]
    },
    {
      "cell_type": "code",
      "metadata": {
        "id": "6B1Mf5nUWWCt",
        "colab_type": "code",
        "colab": {
          "base_uri": "https://localhost:8080/",
          "height": 136
        },
        "outputId": "3705b21b-d654-4387-8d26-e2cbf8c90698"
      },
      "source": [
        "import numpy as np\n",
        "import pandas as pd\n",
        "\n",
        "labels = ['a','b','c']\n",
        "my_data = [10,20,30]\n",
        "arr = np.array(my_data)\n",
        "d = {'a':10,'b':20,'c':30}\n",
        "\n",
        "print (\"Labels:\", labels)\n",
        "print(\"My data:\", my_data)\n",
        "print(\"Dictionary:\", d)\n",
        "pd.Series(my_data, index=labels)"
      ],
      "execution_count": 36,
      "outputs": [
        {
          "output_type": "stream",
          "text": [
            "Labels: ['a', 'b', 'c']\n",
            "My data: [10, 20, 30]\n",
            "Dictionary: {'a': 10, 'b': 20, 'c': 30}\n"
          ],
          "name": "stdout"
        },
        {
          "output_type": "execute_result",
          "data": {
            "text/plain": [
              "a    10\n",
              "b    20\n",
              "c    30\n",
              "dtype: int64"
            ]
          },
          "metadata": {
            "tags": []
          },
          "execution_count": 36
        }
      ]
    },
    {
      "cell_type": "code",
      "metadata": {
        "id": "Q05DA8MIWWCw",
        "colab_type": "code",
        "colab": {
          "base_uri": "https://localhost:8080/",
          "height": 85
        },
        "outputId": "d2b11692-ac43-4bb1-cc5f-2069d4266df5"
      },
      "source": [
        "pd.Series(my_data, index=labels)"
      ],
      "execution_count": 37,
      "outputs": [
        {
          "output_type": "execute_result",
          "data": {
            "text/plain": [
              "a    10\n",
              "b    20\n",
              "c    30\n",
              "dtype: int64"
            ]
          },
          "metadata": {
            "tags": []
          },
          "execution_count": 37
        }
      ]
    },
    {
      "cell_type": "code",
      "metadata": {
        "id": "mTx1o9-eWWCz",
        "colab_type": "code",
        "colab": {
          "base_uri": "https://localhost:8080/",
          "height": 85
        },
        "outputId": "06eb999e-d483-4b20-ce61-872560ec5a0d"
      },
      "source": [
        "print (\"\\nHolding numerical data\\n\",'-'*25, sep='')\n",
        "print(pd.Series(arr)[1])\n"
      ],
      "execution_count": 38,
      "outputs": [
        {
          "output_type": "stream",
          "text": [
            "\n",
            "Holding numerical data\n",
            "-------------------------\n",
            "20\n"
          ],
          "name": "stdout"
        }
      ]
    },
    {
      "cell_type": "code",
      "metadata": {
        "id": "fb2yUq56WWC5",
        "colab_type": "code",
        "colab": {
          "base_uri": "https://localhost:8080/",
          "height": 136
        },
        "outputId": "716cd0e9-26ee-4b90-f765-62cb033f8638"
      },
      "source": [
        "print (\"\\nHolding text labels\\n\",'-'*20, sep='')\n",
        "print(pd.Series(labels))\n"
      ],
      "execution_count": 39,
      "outputs": [
        {
          "output_type": "stream",
          "text": [
            "\n",
            "Holding text labels\n",
            "--------------------\n",
            "0    a\n",
            "1    b\n",
            "2    c\n",
            "dtype: object\n"
          ],
          "name": "stdout"
        }
      ]
    },
    {
      "cell_type": "code",
      "metadata": {
        "id": "JBP3-PcvWWC-",
        "colab_type": "code",
        "colab": {
          "base_uri": "https://localhost:8080/",
          "height": 142
        },
        "outputId": "bb990ee5-92a1-4fcb-faee-6da8fe81e980"
      },
      "source": [
        "\n",
        "d = {'a':\"kjhk\",'b':20,'c':30}\n",
        "d.items\n",
        "pd.DataFrame(d,index = ['a','b','c'])"
      ],
      "execution_count": 40,
      "outputs": [
        {
          "output_type": "execute_result",
          "data": {
            "text/html": [
              "<div>\n",
              "<style scoped>\n",
              "    .dataframe tbody tr th:only-of-type {\n",
              "        vertical-align: middle;\n",
              "    }\n",
              "\n",
              "    .dataframe tbody tr th {\n",
              "        vertical-align: top;\n",
              "    }\n",
              "\n",
              "    .dataframe thead th {\n",
              "        text-align: right;\n",
              "    }\n",
              "</style>\n",
              "<table border=\"1\" class=\"dataframe\">\n",
              "  <thead>\n",
              "    <tr style=\"text-align: right;\">\n",
              "      <th></th>\n",
              "      <th>a</th>\n",
              "      <th>b</th>\n",
              "      <th>c</th>\n",
              "    </tr>\n",
              "  </thead>\n",
              "  <tbody>\n",
              "    <tr>\n",
              "      <th>a</th>\n",
              "      <td>kjhk</td>\n",
              "      <td>20</td>\n",
              "      <td>30</td>\n",
              "    </tr>\n",
              "    <tr>\n",
              "      <th>b</th>\n",
              "      <td>kjhk</td>\n",
              "      <td>20</td>\n",
              "      <td>30</td>\n",
              "    </tr>\n",
              "    <tr>\n",
              "      <th>c</th>\n",
              "      <td>kjhk</td>\n",
              "      <td>20</td>\n",
              "      <td>30</td>\n",
              "    </tr>\n",
              "  </tbody>\n",
              "</table>\n",
              "</div>"
            ],
            "text/plain": [
              "      a   b   c\n",
              "a  kjhk  20  30\n",
              "b  kjhk  20  30\n",
              "c  kjhk  20  30"
            ]
          },
          "metadata": {
            "tags": []
          },
          "execution_count": 40
        }
      ]
    },
    {
      "cell_type": "code",
      "metadata": {
        "id": "8x9VijKWWWDB",
        "colab_type": "code",
        "colab": {
          "base_uri": "https://localhost:8080/",
          "height": 136
        },
        "outputId": "a768694d-88fe-47d3-fef9-4a911e973401"
      },
      "source": [
        "print (\"\\nHolding objects from a dictionary\\n\",'-'*40, sep='')\n",
        "print(pd.Series([type, sum, max]))"
      ],
      "execution_count": 41,
      "outputs": [
        {
          "output_type": "stream",
          "text": [
            "\n",
            "Holding objects from a dictionary\n",
            "----------------------------------------\n",
            "0             <class 'type'>\n",
            "1    <built-in function sum>\n",
            "2    <built-in function max>\n",
            "dtype: object\n"
          ],
          "name": "stdout"
        }
      ]
    },
    {
      "cell_type": "code",
      "metadata": {
        "scrolled": true,
        "id": "w-SweG2zWWDF",
        "colab_type": "code",
        "colab": {
          "base_uri": "https://localhost:8080/",
          "height": 102
        },
        "outputId": "3ca14812-bbe6-4e6a-d120-b03d4bf12342"
      },
      "source": [
        "ser1 = pd.Series([1,2,3,4],index = [2,4,6,8])\n",
        "ser2 = pd.Series([1,2,5,4],['CA', 'OR', 'NV', 'AZ'])\n",
        "ser1"
      ],
      "execution_count": 42,
      "outputs": [
        {
          "output_type": "execute_result",
          "data": {
            "text/plain": [
              "2    1\n",
              "4    2\n",
              "6    3\n",
              "8    4\n",
              "dtype: int64"
            ]
          },
          "metadata": {
            "tags": []
          },
          "execution_count": 42
        }
      ]
    },
    {
      "cell_type": "code",
      "metadata": {
        "id": "Ti44QQcHWWDJ",
        "colab_type": "code",
        "colab": {
          "base_uri": "https://localhost:8080/",
          "height": 68
        },
        "outputId": "a55e0b7e-798f-4add-b55e-cf692314a337"
      },
      "source": [
        "ser1[0:3:2]\n"
      ],
      "execution_count": 43,
      "outputs": [
        {
          "output_type": "execute_result",
          "data": {
            "text/plain": [
              "2    1\n",
              "6    3\n",
              "dtype: int64"
            ]
          },
          "metadata": {
            "tags": []
          },
          "execution_count": 43
        }
      ]
    },
    {
      "cell_type": "code",
      "metadata": {
        "id": "ZuCfNORzWWDZ",
        "colab_type": "code",
        "colab": {
          "base_uri": "https://localhost:8080/",
          "height": 204
        },
        "outputId": "b2f8b092-a3a1-4a21-acb2-982a251eb18e"
      },
      "source": [
        "from numpy.random import randn as rn\n",
        "#np.random.seed(101)\n",
        "matrix_data = rn(5,4)\n",
        "row_labels = ['A','B','C','D','E']\n",
        "column_headings = ['W','X','Y','Z']\n",
        "\n",
        "df = pd.DataFrame(matrix_data,row_labels,column_headings)\n",
        "#print(\"\\nThe data frame looks like\\n\",'-'*45, sep='')\n",
        "df"
      ],
      "execution_count": 44,
      "outputs": [
        {
          "output_type": "execute_result",
          "data": {
            "text/html": [
              "<div>\n",
              "<style scoped>\n",
              "    .dataframe tbody tr th:only-of-type {\n",
              "        vertical-align: middle;\n",
              "    }\n",
              "\n",
              "    .dataframe tbody tr th {\n",
              "        vertical-align: top;\n",
              "    }\n",
              "\n",
              "    .dataframe thead th {\n",
              "        text-align: right;\n",
              "    }\n",
              "</style>\n",
              "<table border=\"1\" class=\"dataframe\">\n",
              "  <thead>\n",
              "    <tr style=\"text-align: right;\">\n",
              "      <th></th>\n",
              "      <th>W</th>\n",
              "      <th>X</th>\n",
              "      <th>Y</th>\n",
              "      <th>Z</th>\n",
              "    </tr>\n",
              "  </thead>\n",
              "  <tbody>\n",
              "    <tr>\n",
              "      <th>A</th>\n",
              "      <td>0.279915</td>\n",
              "      <td>-0.155202</td>\n",
              "      <td>-0.443393</td>\n",
              "      <td>-0.013906</td>\n",
              "    </tr>\n",
              "    <tr>\n",
              "      <th>B</th>\n",
              "      <td>-1.399822</td>\n",
              "      <td>-1.022450</td>\n",
              "      <td>-0.482352</td>\n",
              "      <td>0.221707</td>\n",
              "    </tr>\n",
              "    <tr>\n",
              "      <th>C</th>\n",
              "      <td>0.620886</td>\n",
              "      <td>-1.129661</td>\n",
              "      <td>1.001841</td>\n",
              "      <td>-0.438784</td>\n",
              "    </tr>\n",
              "    <tr>\n",
              "      <th>D</th>\n",
              "      <td>-1.644005</td>\n",
              "      <td>-0.573533</td>\n",
              "      <td>-1.404483</td>\n",
              "      <td>-0.685027</td>\n",
              "    </tr>\n",
              "    <tr>\n",
              "      <th>E</th>\n",
              "      <td>-0.860188</td>\n",
              "      <td>-0.296077</td>\n",
              "      <td>-0.933756</td>\n",
              "      <td>-1.254459</td>\n",
              "    </tr>\n",
              "  </tbody>\n",
              "</table>\n",
              "</div>"
            ],
            "text/plain": [
              "          W         X         Y         Z\n",
              "A  0.279915 -0.155202 -0.443393 -0.013906\n",
              "B -1.399822 -1.022450 -0.482352  0.221707\n",
              "C  0.620886 -1.129661  1.001841 -0.438784\n",
              "D -1.644005 -0.573533 -1.404483 -0.685027\n",
              "E -0.860188 -0.296077 -0.933756 -1.254459"
            ]
          },
          "metadata": {
            "tags": []
          },
          "execution_count": 44
        }
      ]
    },
    {
      "cell_type": "code",
      "metadata": {
        "id": "fYnRFxf1WWDe",
        "colab_type": "code",
        "colab": {
          "base_uri": "https://localhost:8080/",
          "height": 102
        },
        "outputId": "aa3b176d-c8f7-43d3-c7e9-76fd7239bc5d"
      },
      "source": [
        "df.iloc[2]"
      ],
      "execution_count": 45,
      "outputs": [
        {
          "output_type": "execute_result",
          "data": {
            "text/plain": [
              "W    0.620886\n",
              "X   -1.129661\n",
              "Y    1.001841\n",
              "Z   -0.438784\n",
              "Name: C, dtype: float64"
            ]
          },
          "metadata": {
            "tags": []
          },
          "execution_count": 45
        }
      ]
    },
    {
      "cell_type": "code",
      "metadata": {
        "id": "pzyeDzcgWWDk",
        "colab_type": "code",
        "colab": {
          "base_uri": "https://localhost:8080/",
          "height": 85
        },
        "outputId": "378b79e0-70e3-492b-ab49-0920a5ef16cc"
      },
      "source": [
        "print(\"\\nType of the pair of columns: \", type(df[['X','Z']]), sep='')\n",
        "print (\"\\nSo, for more than one column, the object turns into a DataFrame\")"
      ],
      "execution_count": 46,
      "outputs": [
        {
          "output_type": "stream",
          "text": [
            "\n",
            "Type of the pair of columns: <class 'pandas.core.frame.DataFrame'>\n",
            "\n",
            "So, for more than one column, the object turns into a DataFrame\n"
          ],
          "name": "stdout"
        }
      ]
    },
    {
      "cell_type": "code",
      "metadata": {
        "id": "T0AhbXSjWWDu",
        "colab_type": "code",
        "colab": {
          "base_uri": "https://localhost:8080/",
          "height": 170
        },
        "outputId": "bd01f973-af77-435d-ed71-911c7f93b8d3"
      },
      "source": [
        "print(\"\\nThe 'X' column accessed by DOT method (NOT recommended)\\n\",'-'*55, sep='')\n",
        "print(df[\"X\"])"
      ],
      "execution_count": 47,
      "outputs": [
        {
          "output_type": "stream",
          "text": [
            "\n",
            "The 'X' column accessed by DOT method (NOT recommended)\n",
            "-------------------------------------------------------\n",
            "A   -0.155202\n",
            "B   -1.022450\n",
            "C   -1.129661\n",
            "D   -0.573533\n",
            "E   -0.296077\n",
            "Name: X, dtype: float64\n"
          ],
          "name": "stdout"
        }
      ]
    },
    {
      "cell_type": "code",
      "metadata": {
        "id": "bclRyymYWWDz",
        "colab_type": "code",
        "colab": {
          "base_uri": "https://localhost:8080/",
          "height": 170
        },
        "outputId": "e28c9ade-088c-4e2d-df5d-575bcfa3bf3a"
      },
      "source": [
        "print(\"\\nA column is created by assigning it in relation to an existing column\\n\",'-'*75, sep='')\n",
        "df['New'] = df['X']+df['Z']\n",
        "df['New (Sum of X and Z)'] = df['X']+df['Z']\n",
        "print(df)\n"
      ],
      "execution_count": 48,
      "outputs": [
        {
          "output_type": "stream",
          "text": [
            "\n",
            "A column is created by assigning it in relation to an existing column\n",
            "---------------------------------------------------------------------------\n",
            "          W         X         Y         Z       New  New (Sum of X and Z)\n",
            "A  0.279915 -0.155202 -0.443393 -0.013906 -0.169108             -0.169108\n",
            "B -1.399822 -1.022450 -0.482352  0.221707 -0.800743             -0.800743\n",
            "C  0.620886 -1.129661  1.001841 -0.438784 -1.568445             -1.568445\n",
            "D -1.644005 -0.573533 -1.404483 -0.685027 -1.258560             -1.258560\n",
            "E -0.860188 -0.296077 -0.933756 -1.254459 -1.550536             -1.550536\n"
          ],
          "name": "stdout"
        }
      ]
    },
    {
      "cell_type": "code",
      "metadata": {
        "id": "tE7uV_voWWD3",
        "colab_type": "code",
        "colab": {
          "base_uri": "https://localhost:8080/",
          "height": 204
        },
        "outputId": "c8539c54-bc72-454c-eda8-d035e90a6a06"
      },
      "source": [
        "df"
      ],
      "execution_count": 49,
      "outputs": [
        {
          "output_type": "execute_result",
          "data": {
            "text/html": [
              "<div>\n",
              "<style scoped>\n",
              "    .dataframe tbody tr th:only-of-type {\n",
              "        vertical-align: middle;\n",
              "    }\n",
              "\n",
              "    .dataframe tbody tr th {\n",
              "        vertical-align: top;\n",
              "    }\n",
              "\n",
              "    .dataframe thead th {\n",
              "        text-align: right;\n",
              "    }\n",
              "</style>\n",
              "<table border=\"1\" class=\"dataframe\">\n",
              "  <thead>\n",
              "    <tr style=\"text-align: right;\">\n",
              "      <th></th>\n",
              "      <th>W</th>\n",
              "      <th>X</th>\n",
              "      <th>Y</th>\n",
              "      <th>Z</th>\n",
              "      <th>New</th>\n",
              "      <th>New (Sum of X and Z)</th>\n",
              "    </tr>\n",
              "  </thead>\n",
              "  <tbody>\n",
              "    <tr>\n",
              "      <th>A</th>\n",
              "      <td>0.279915</td>\n",
              "      <td>-0.155202</td>\n",
              "      <td>-0.443393</td>\n",
              "      <td>-0.013906</td>\n",
              "      <td>-0.169108</td>\n",
              "      <td>-0.169108</td>\n",
              "    </tr>\n",
              "    <tr>\n",
              "      <th>B</th>\n",
              "      <td>-1.399822</td>\n",
              "      <td>-1.022450</td>\n",
              "      <td>-0.482352</td>\n",
              "      <td>0.221707</td>\n",
              "      <td>-0.800743</td>\n",
              "      <td>-0.800743</td>\n",
              "    </tr>\n",
              "    <tr>\n",
              "      <th>C</th>\n",
              "      <td>0.620886</td>\n",
              "      <td>-1.129661</td>\n",
              "      <td>1.001841</td>\n",
              "      <td>-0.438784</td>\n",
              "      <td>-1.568445</td>\n",
              "      <td>-1.568445</td>\n",
              "    </tr>\n",
              "    <tr>\n",
              "      <th>D</th>\n",
              "      <td>-1.644005</td>\n",
              "      <td>-0.573533</td>\n",
              "      <td>-1.404483</td>\n",
              "      <td>-0.685027</td>\n",
              "      <td>-1.258560</td>\n",
              "      <td>-1.258560</td>\n",
              "    </tr>\n",
              "    <tr>\n",
              "      <th>E</th>\n",
              "      <td>-0.860188</td>\n",
              "      <td>-0.296077</td>\n",
              "      <td>-0.933756</td>\n",
              "      <td>-1.254459</td>\n",
              "      <td>-1.550536</td>\n",
              "      <td>-1.550536</td>\n",
              "    </tr>\n",
              "  </tbody>\n",
              "</table>\n",
              "</div>"
            ],
            "text/plain": [
              "          W         X         Y         Z       New  New (Sum of X and Z)\n",
              "A  0.279915 -0.155202 -0.443393 -0.013906 -0.169108             -0.169108\n",
              "B -1.399822 -1.022450 -0.482352  0.221707 -0.800743             -0.800743\n",
              "C  0.620886 -1.129661  1.001841 -0.438784 -1.568445             -1.568445\n",
              "D -1.644005 -0.573533 -1.404483 -0.685027 -1.258560             -1.258560\n",
              "E -0.860188 -0.296077 -0.933756 -1.254459 -1.550536             -1.550536"
            ]
          },
          "metadata": {
            "tags": []
          },
          "execution_count": 49
        }
      ]
    },
    {
      "cell_type": "code",
      "metadata": {
        "id": "_j_zSVDqWWD6",
        "colab_type": "code",
        "colab": {
          "base_uri": "https://localhost:8080/",
          "height": 68
        },
        "outputId": "be8b5088-e747-4b5a-a12f-1bee24524c68"
      },
      "source": [
        "print(\"\\nA column is dropped by using df.drop() method\\n\",'-'*55, sep=' ')\n",
        "df.drop(\"C\",inplace=True) # Notice the axis=1 option, axis = 0 is default, so one has to change it to 1\n",
        "\n"
      ],
      "execution_count": 50,
      "outputs": [
        {
          "output_type": "stream",
          "text": [
            "\n",
            "A column is dropped by using df.drop() method\n",
            " -------------------------------------------------------\n"
          ],
          "name": "stdout"
        }
      ]
    },
    {
      "cell_type": "code",
      "metadata": {
        "id": "tMmPiCUZWWD9",
        "colab_type": "code",
        "colab": {
          "base_uri": "https://localhost:8080/",
          "height": 173
        },
        "outputId": "446705ba-6413-4011-ff9b-aa65ccabc3b1"
      },
      "source": [
        "df"
      ],
      "execution_count": 51,
      "outputs": [
        {
          "output_type": "execute_result",
          "data": {
            "text/html": [
              "<div>\n",
              "<style scoped>\n",
              "    .dataframe tbody tr th:only-of-type {\n",
              "        vertical-align: middle;\n",
              "    }\n",
              "\n",
              "    .dataframe tbody tr th {\n",
              "        vertical-align: top;\n",
              "    }\n",
              "\n",
              "    .dataframe thead th {\n",
              "        text-align: right;\n",
              "    }\n",
              "</style>\n",
              "<table border=\"1\" class=\"dataframe\">\n",
              "  <thead>\n",
              "    <tr style=\"text-align: right;\">\n",
              "      <th></th>\n",
              "      <th>W</th>\n",
              "      <th>X</th>\n",
              "      <th>Y</th>\n",
              "      <th>Z</th>\n",
              "      <th>New</th>\n",
              "      <th>New (Sum of X and Z)</th>\n",
              "    </tr>\n",
              "  </thead>\n",
              "  <tbody>\n",
              "    <tr>\n",
              "      <th>A</th>\n",
              "      <td>0.279915</td>\n",
              "      <td>-0.155202</td>\n",
              "      <td>-0.443393</td>\n",
              "      <td>-0.013906</td>\n",
              "      <td>-0.169108</td>\n",
              "      <td>-0.169108</td>\n",
              "    </tr>\n",
              "    <tr>\n",
              "      <th>B</th>\n",
              "      <td>-1.399822</td>\n",
              "      <td>-1.022450</td>\n",
              "      <td>-0.482352</td>\n",
              "      <td>0.221707</td>\n",
              "      <td>-0.800743</td>\n",
              "      <td>-0.800743</td>\n",
              "    </tr>\n",
              "    <tr>\n",
              "      <th>D</th>\n",
              "      <td>-1.644005</td>\n",
              "      <td>-0.573533</td>\n",
              "      <td>-1.404483</td>\n",
              "      <td>-0.685027</td>\n",
              "      <td>-1.258560</td>\n",
              "      <td>-1.258560</td>\n",
              "    </tr>\n",
              "    <tr>\n",
              "      <th>E</th>\n",
              "      <td>-0.860188</td>\n",
              "      <td>-0.296077</td>\n",
              "      <td>-0.933756</td>\n",
              "      <td>-1.254459</td>\n",
              "      <td>-1.550536</td>\n",
              "      <td>-1.550536</td>\n",
              "    </tr>\n",
              "  </tbody>\n",
              "</table>\n",
              "</div>"
            ],
            "text/plain": [
              "          W         X         Y         Z       New  New (Sum of X and Z)\n",
              "A  0.279915 -0.155202 -0.443393 -0.013906 -0.169108             -0.169108\n",
              "B -1.399822 -1.022450 -0.482352  0.221707 -0.800743             -0.800743\n",
              "D -1.644005 -0.573533 -1.404483 -0.685027 -1.258560             -1.258560\n",
              "E -0.860188 -0.296077 -0.933756 -1.254459 -1.550536             -1.550536"
            ]
          },
          "metadata": {
            "tags": []
          },
          "execution_count": 51
        }
      ]
    },
    {
      "cell_type": "code",
      "metadata": {
        "id": "sm_xTCtLWWD_",
        "colab_type": "code",
        "colab": {
          "base_uri": "https://localhost:8080/",
          "height": 136
        },
        "outputId": "85a63e2b-e57a-47d9-dbca-102b4113b48a"
      },
      "source": [
        "df1=df.drop('A')\n",
        "print(\"\\nA row (index) is dropped by using df.drop() method and axis=0\\n\",'-'*65, sep='')\n",
        "print(df1)\n"
      ],
      "execution_count": 52,
      "outputs": [
        {
          "output_type": "stream",
          "text": [
            "\n",
            "A row (index) is dropped by using df.drop() method and axis=0\n",
            "-----------------------------------------------------------------\n",
            "          W         X         Y         Z       New  New (Sum of X and Z)\n",
            "B -1.399822 -1.022450 -0.482352  0.221707 -0.800743             -0.800743\n",
            "D -1.644005 -0.573533 -1.404483 -0.685027 -1.258560             -1.258560\n",
            "E -0.860188 -0.296077 -0.933756 -1.254459 -1.550536             -1.550536\n"
          ],
          "name": "stdout"
        }
      ]
    },
    {
      "cell_type": "code",
      "metadata": {
        "id": "ysz_ozEEWWED",
        "colab_type": "code",
        "colab": {
          "base_uri": "https://localhost:8080/",
          "height": 153
        },
        "outputId": "971b8627-d451-4082-ff0a-bfdf0b3c0d16"
      },
      "source": [
        "print(\"\\nAn in-place change can be done by making inplace=True in the drop method\\n\",'-'*75, sep='')\n",
        "df.drop('New (Sum of X and Z)', axis=1, inplace=True)\n",
        "print(df)"
      ],
      "execution_count": 53,
      "outputs": [
        {
          "output_type": "stream",
          "text": [
            "\n",
            "An in-place change can be done by making inplace=True in the drop method\n",
            "---------------------------------------------------------------------------\n",
            "          W         X         Y         Z       New\n",
            "A  0.279915 -0.155202 -0.443393 -0.013906 -0.169108\n",
            "B -1.399822 -1.022450 -0.482352  0.221707 -0.800743\n",
            "D -1.644005 -0.573533 -1.404483 -0.685027 -1.258560\n",
            "E -0.860188 -0.296077 -0.933756 -1.254459 -1.550536\n"
          ],
          "name": "stdout"
        }
      ]
    },
    {
      "cell_type": "code",
      "metadata": {
        "id": "-9xsjJVXWWEG",
        "colab_type": "code",
        "colab": {
          "base_uri": "https://localhost:8080/",
          "height": 173
        },
        "outputId": "7a2c504d-69ae-4acf-f5f5-df0647d423e2"
      },
      "source": [
        "### Selecting/indexing Rows\n",
        "#* Label-based 'loc' method\n",
        "#* Index (numeric) 'iloc' method\n",
        "df"
      ],
      "execution_count": 54,
      "outputs": [
        {
          "output_type": "execute_result",
          "data": {
            "text/html": [
              "<div>\n",
              "<style scoped>\n",
              "    .dataframe tbody tr th:only-of-type {\n",
              "        vertical-align: middle;\n",
              "    }\n",
              "\n",
              "    .dataframe tbody tr th {\n",
              "        vertical-align: top;\n",
              "    }\n",
              "\n",
              "    .dataframe thead th {\n",
              "        text-align: right;\n",
              "    }\n",
              "</style>\n",
              "<table border=\"1\" class=\"dataframe\">\n",
              "  <thead>\n",
              "    <tr style=\"text-align: right;\">\n",
              "      <th></th>\n",
              "      <th>W</th>\n",
              "      <th>X</th>\n",
              "      <th>Y</th>\n",
              "      <th>Z</th>\n",
              "      <th>New</th>\n",
              "    </tr>\n",
              "  </thead>\n",
              "  <tbody>\n",
              "    <tr>\n",
              "      <th>A</th>\n",
              "      <td>0.279915</td>\n",
              "      <td>-0.155202</td>\n",
              "      <td>-0.443393</td>\n",
              "      <td>-0.013906</td>\n",
              "      <td>-0.169108</td>\n",
              "    </tr>\n",
              "    <tr>\n",
              "      <th>B</th>\n",
              "      <td>-1.399822</td>\n",
              "      <td>-1.022450</td>\n",
              "      <td>-0.482352</td>\n",
              "      <td>0.221707</td>\n",
              "      <td>-0.800743</td>\n",
              "    </tr>\n",
              "    <tr>\n",
              "      <th>D</th>\n",
              "      <td>-1.644005</td>\n",
              "      <td>-0.573533</td>\n",
              "      <td>-1.404483</td>\n",
              "      <td>-0.685027</td>\n",
              "      <td>-1.258560</td>\n",
              "    </tr>\n",
              "    <tr>\n",
              "      <th>E</th>\n",
              "      <td>-0.860188</td>\n",
              "      <td>-0.296077</td>\n",
              "      <td>-0.933756</td>\n",
              "      <td>-1.254459</td>\n",
              "      <td>-1.550536</td>\n",
              "    </tr>\n",
              "  </tbody>\n",
              "</table>\n",
              "</div>"
            ],
            "text/plain": [
              "          W         X         Y         Z       New\n",
              "A  0.279915 -0.155202 -0.443393 -0.013906 -0.169108\n",
              "B -1.399822 -1.022450 -0.482352  0.221707 -0.800743\n",
              "D -1.644005 -0.573533 -1.404483 -0.685027 -1.258560\n",
              "E -0.860188 -0.296077 -0.933756 -1.254459 -1.550536"
            ]
          },
          "metadata": {
            "tags": []
          },
          "execution_count": 54
        }
      ]
    },
    {
      "cell_type": "code",
      "metadata": {
        "scrolled": true,
        "id": "jMfS1N7HWWEI",
        "colab_type": "code",
        "colab": {
          "base_uri": "https://localhost:8080/",
          "height": 221
        },
        "outputId": "99b4ae2a-dbbe-4797-e76f-1120f4d8a32b"
      },
      "source": [
        "print(\"\\nLabel-based 'loc' method can be used for selecting row(s)\\n\",'-'*60, sep='')\n",
        "print(\"\\nSingle row\\n\")\n",
        "print(df.iloc[3])\n"
      ],
      "execution_count": 55,
      "outputs": [
        {
          "output_type": "stream",
          "text": [
            "\n",
            "Label-based 'loc' method can be used for selecting row(s)\n",
            "------------------------------------------------------------\n",
            "\n",
            "Single row\n",
            "\n",
            "W     -0.860188\n",
            "X     -0.296077\n",
            "Y     -0.933756\n",
            "Z     -1.254459\n",
            "New   -1.550536\n",
            "Name: E, dtype: float64\n"
          ],
          "name": "stdout"
        }
      ]
    },
    {
      "cell_type": "code",
      "metadata": {
        "id": "Y6GDHaexWWEN",
        "colab_type": "code",
        "colab": {
          "base_uri": "https://localhost:8080/",
          "height": 221
        },
        "outputId": "c2840cd3-3b5a-424c-d116-4cd4868ad696"
      },
      "source": [
        "print(\"\\nIndex position based 'iloc' method can be used for selecting row(s)\\n\",'-'*70, sep='')\n",
        "print(\"\\nSingle row\\n\")\n",
        "print(df.iloc[2])\n"
      ],
      "execution_count": 59,
      "outputs": [
        {
          "output_type": "stream",
          "text": [
            "\n",
            "Index position based 'iloc' method can be used for selecting row(s)\n",
            "----------------------------------------------------------------------\n",
            "\n",
            "Single row\n",
            "\n",
            "W     -1.644005\n",
            "X     -0.573533\n",
            "Y     -1.404483\n",
            "Z     -0.685027\n",
            "New   -1.258560\n",
            "Name: D, dtype: float64\n"
          ],
          "name": "stdout"
        }
      ]
    },
    {
      "cell_type": "code",
      "metadata": {
        "id": "z0oQTNGdWWEQ",
        "colab_type": "code",
        "colab": {
          "base_uri": "https://localhost:8080/",
          "height": 119
        },
        "outputId": "c0c403b6-149f-4ae3-ef43-19430a0ee0ed"
      },
      "source": [
        "print(\"\\nMultiple rows\\n\")\n",
        "print(df.iloc[[1,2]])"
      ],
      "execution_count": 60,
      "outputs": [
        {
          "output_type": "stream",
          "text": [
            "\n",
            "Multiple rows\n",
            "\n",
            "          W         X         Y         Z       New\n",
            "B -1.399822 -1.022450 -0.482352  0.221707 -0.800743\n",
            "D -1.644005 -0.573533 -1.404483 -0.685027 -1.258560\n"
          ],
          "name": "stdout"
        }
      ]
    },
    {
      "cell_type": "code",
      "metadata": {
        "id": "MtH5JDZtWWEU",
        "colab_type": "code",
        "colab": {}
      },
      "source": [
        "#### Subsetting DataFrame"
      ],
      "execution_count": 61,
      "outputs": []
    },
    {
      "cell_type": "code",
      "metadata": {
        "id": "dXij_a5zWWEW",
        "colab_type": "code",
        "colab": {}
      },
      "source": [
        "\n",
        "matrix_data = rn(5,4)\n",
        "row_labels = ['A','B','C','D','E']\n",
        "column_headings = ['W','X','Y','Z']\n",
        "df = pd.DataFrame(data=matrix_data, index=row_labels, columns=column_headings)\n",
        "\n"
      ],
      "execution_count": 62,
      "outputs": []
    },
    {
      "cell_type": "code",
      "metadata": {
        "id": "OqR_hh2EWWEY",
        "colab_type": "code",
        "colab": {
          "base_uri": "https://localhost:8080/",
          "height": 170
        },
        "outputId": "4c356f75-60b6-47dc-cd46-9891c882372e"
      },
      "source": [
        "print(\"\\nThe DatFrame\\n\",'-'*45, sep='')\n",
        "print(df)\n"
      ],
      "execution_count": 63,
      "outputs": [
        {
          "output_type": "stream",
          "text": [
            "\n",
            "The DatFrame\n",
            "---------------------------------------------\n",
            "          W         X         Y         Z\n",
            "A -0.447025  1.319771  1.088658 -0.919285\n",
            "B -0.009131  1.425180  1.469456 -1.701735\n",
            "C -0.270723 -0.714989 -1.093796  1.161190\n",
            "D -0.960513 -0.156890  1.220352 -0.183394\n",
            "E  0.830753 -0.920157 -0.047722  1.178664\n"
          ],
          "name": "stdout"
        }
      ]
    },
    {
      "cell_type": "code",
      "metadata": {
        "id": "lneqs7M_WWEb",
        "colab_type": "code",
        "colab": {
          "base_uri": "https://localhost:8080/",
          "height": 119
        },
        "outputId": "beb59b2d-e097-4e5e-a0b9-b7c9b5657b49"
      },
      "source": [
        "print(\"\\nElement at row 'B' and column 'Y' is\\n\") \n",
        "print(df.loc[['B','C'],['Y','W']])\n"
      ],
      "execution_count": 64,
      "outputs": [
        {
          "output_type": "stream",
          "text": [
            "\n",
            "Element at row 'B' and column 'Y' is\n",
            "\n",
            "          Y         W\n",
            "B  1.469456 -0.009131\n",
            "C -1.093796 -0.270723\n"
          ],
          "name": "stdout"
        }
      ]
    },
    {
      "cell_type": "code",
      "metadata": {
        "id": "-yK8OiAdWWEf",
        "colab_type": "code",
        "colab": {
          "base_uri": "https://localhost:8080/",
          "height": 193
        },
        "outputId": "adad6ae2-e3c3-4a4f-f06c-dcf423290440"
      },
      "source": [
        "print(\"\\nSubset comprising of rows B and D, and columns W and Y, is\\n\")\n",
        "df.iloc[[1,2,3],[0,1]]"
      ],
      "execution_count": 65,
      "outputs": [
        {
          "output_type": "stream",
          "text": [
            "\n",
            "Subset comprising of rows B and D, and columns W and Y, is\n",
            "\n"
          ],
          "name": "stdout"
        },
        {
          "output_type": "execute_result",
          "data": {
            "text/html": [
              "<div>\n",
              "<style scoped>\n",
              "    .dataframe tbody tr th:only-of-type {\n",
              "        vertical-align: middle;\n",
              "    }\n",
              "\n",
              "    .dataframe tbody tr th {\n",
              "        vertical-align: top;\n",
              "    }\n",
              "\n",
              "    .dataframe thead th {\n",
              "        text-align: right;\n",
              "    }\n",
              "</style>\n",
              "<table border=\"1\" class=\"dataframe\">\n",
              "  <thead>\n",
              "    <tr style=\"text-align: right;\">\n",
              "      <th></th>\n",
              "      <th>W</th>\n",
              "      <th>X</th>\n",
              "    </tr>\n",
              "  </thead>\n",
              "  <tbody>\n",
              "    <tr>\n",
              "      <th>B</th>\n",
              "      <td>-0.009131</td>\n",
              "      <td>1.425180</td>\n",
              "    </tr>\n",
              "    <tr>\n",
              "      <th>C</th>\n",
              "      <td>-0.270723</td>\n",
              "      <td>-0.714989</td>\n",
              "    </tr>\n",
              "    <tr>\n",
              "      <th>D</th>\n",
              "      <td>-0.960513</td>\n",
              "      <td>-0.156890</td>\n",
              "    </tr>\n",
              "  </tbody>\n",
              "</table>\n",
              "</div>"
            ],
            "text/plain": [
              "          W         X\n",
              "B -0.009131  1.425180\n",
              "C -0.270723 -0.714989\n",
              "D -0.960513 -0.156890"
            ]
          },
          "metadata": {
            "tags": []
          },
          "execution_count": 65
        }
      ]
    },
    {
      "cell_type": "code",
      "metadata": {
        "id": "jqkmjLTxWWEi",
        "colab_type": "code",
        "colab": {
          "base_uri": "https://localhost:8080/",
          "height": 68
        },
        "outputId": "90a4089c-c8d5-46cc-a909-da837a2d6e52"
      },
      "source": [
        "print(df.loc[['B','C'],])"
      ],
      "execution_count": 66,
      "outputs": [
        {
          "output_type": "stream",
          "text": [
            "          W         X         Y         Z\n",
            "B -0.009131  1.425180  1.469456 -1.701735\n",
            "C -0.270723 -0.714989 -1.093796  1.161190\n"
          ],
          "name": "stdout"
        }
      ]
    },
    {
      "cell_type": "code",
      "metadata": {
        "id": "WFsX5PS3WWEn",
        "colab_type": "code",
        "colab": {}
      },
      "source": [
        ""
      ],
      "execution_count": 66,
      "outputs": []
    },
    {
      "cell_type": "code",
      "metadata": {
        "id": "lcAf7bu_WWEq",
        "colab_type": "code",
        "colab": {
          "base_uri": "https://localhost:8080/",
          "height": 170
        },
        "outputId": "5ba08807-cb86-400d-a8e6-5b79e69ef08e"
      },
      "source": [
        "print(\"\\nThe DataFrame\\n\",'-'*45, sep='')\n",
        "print(df)\n"
      ],
      "execution_count": 67,
      "outputs": [
        {
          "output_type": "stream",
          "text": [
            "\n",
            "The DataFrame\n",
            "---------------------------------------------\n",
            "          W         X         Y         Z\n",
            "A -0.447025  1.319771  1.088658 -0.919285\n",
            "B -0.009131  1.425180  1.469456 -1.701735\n",
            "C -0.270723 -0.714989 -1.093796  1.161190\n",
            "D -0.960513 -0.156890  1.220352 -0.183394\n",
            "E  0.830753 -0.920157 -0.047722  1.178664\n"
          ],
          "name": "stdout"
        }
      ]
    },
    {
      "cell_type": "code",
      "metadata": {
        "id": "ERImeLbMWWEt",
        "colab_type": "code",
        "colab": {
          "base_uri": "https://localhost:8080/",
          "height": 170
        },
        "outputId": "26ce938b-4fdf-4a93-a6fa-bdc13d8bdc67"
      },
      "source": [
        "print(\"\\nBoolean DataFrame(s) where we are checking if the values are greater than 0\\n\",'-'*75, sep='')\n",
        "print(df>0)\n"
      ],
      "execution_count": 68,
      "outputs": [
        {
          "output_type": "stream",
          "text": [
            "\n",
            "Boolean DataFrame(s) where we are checking if the values are greater than 0\n",
            "---------------------------------------------------------------------------\n",
            "       W      X      Y      Z\n",
            "A  False   True   True  False\n",
            "B  False   True   True  False\n",
            "C  False  False  False   True\n",
            "D  False  False   True  False\n",
            "E   True  False  False   True\n"
          ],
          "name": "stdout"
        }
      ]
    },
    {
      "cell_type": "code",
      "metadata": {
        "id": "VSNVdB0qWWEw",
        "colab_type": "code",
        "colab": {
          "base_uri": "https://localhost:8080/",
          "height": 119
        },
        "outputId": "c71aed44-f6f1-41fa-f733-3300d7dff956"
      },
      "source": [
        "print(\"\\n\")\n",
        "print(df.loc[['A','B','C']]>0)\n"
      ],
      "execution_count": 69,
      "outputs": [
        {
          "output_type": "stream",
          "text": [
            "\n",
            "\n",
            "       W      X      Y      Z\n",
            "A  False   True   True  False\n",
            "B  False   True   True  False\n",
            "C  False  False  False   True\n"
          ],
          "name": "stdout"
        }
      ]
    },
    {
      "cell_type": "code",
      "metadata": {
        "id": "RQndC-iwWWEz",
        "colab_type": "code",
        "colab": {
          "base_uri": "https://localhost:8080/",
          "height": 170
        },
        "outputId": "d5b8617d-ac02-404d-9f8c-f66e5b82bb9b"
      },
      "source": [
        "booldf = df>0\n",
        "print(\"\\nDataFrame indexed by boolean dataframe\\n\",'-'*45, sep='')\n",
        "print(df[booldf])"
      ],
      "execution_count": 70,
      "outputs": [
        {
          "output_type": "stream",
          "text": [
            "\n",
            "DataFrame indexed by boolean dataframe\n",
            "---------------------------------------------\n",
            "          W         X         Y         Z\n",
            "A       NaN  1.319771  1.088658       NaN\n",
            "B       NaN  1.425180  1.469456       NaN\n",
            "C       NaN       NaN       NaN  1.161190\n",
            "D       NaN       NaN  1.220352       NaN\n",
            "E  0.830753       NaN       NaN  1.178664\n"
          ],
          "name": "stdout"
        }
      ]
    },
    {
      "cell_type": "code",
      "metadata": {
        "id": "mPvdF8m0WWE4",
        "colab_type": "code",
        "colab": {
          "base_uri": "https://localhost:8080/",
          "height": 102
        },
        "outputId": "dcdaab7a-ed87-426a-cb34-ce85053823c2"
      },
      "source": [
        "\n",
        "import pandas as pd \n",
        "import numpy as np\n",
        "matrix_data = np.matrix('22,66,140;42,70,148;30,62,125;35,68,160;25,62,152')\n",
        "row_labels = ['A','B','C','D','E']\n",
        "column_headings = ['Age', 'Height', 'Weight']\n",
        "matrix_data"
      ],
      "execution_count": 71,
      "outputs": [
        {
          "output_type": "execute_result",
          "data": {
            "text/plain": [
              "matrix([[ 22,  66, 140],\n",
              "        [ 42,  70, 148],\n",
              "        [ 30,  62, 125],\n",
              "        [ 35,  68, 160],\n",
              "        [ 25,  62, 152]])"
            ]
          },
          "metadata": {
            "tags": []
          },
          "execution_count": 71
        }
      ]
    },
    {
      "cell_type": "code",
      "metadata": {
        "id": "HJrylxm6WWE9",
        "colab_type": "code",
        "colab": {
          "base_uri": "https://localhost:8080/",
          "height": 170
        },
        "outputId": "cdaf6bd7-2ca1-4efe-ffe9-846c9451d8cc"
      },
      "source": [
        "df = pd.DataFrame(data=matrix_data, index=row_labels, columns=column_headings)\n",
        "print(\"\\nA new DataFrame\\n\",'-'*25, sep='')\n",
        "print(df)\n"
      ],
      "execution_count": 72,
      "outputs": [
        {
          "output_type": "stream",
          "text": [
            "\n",
            "A new DataFrame\n",
            "-------------------------\n",
            "   Age  Height  Weight\n",
            "A   22      66     140\n",
            "B   42      70     148\n",
            "C   30      62     125\n",
            "D   35      68     160\n",
            "E   25      62     152\n"
          ],
          "name": "stdout"
        }
      ]
    },
    {
      "cell_type": "code",
      "metadata": {
        "id": "ge0LBaUfWWE_",
        "colab_type": "code",
        "colab": {
          "base_uri": "https://localhost:8080/",
          "height": 142
        },
        "outputId": "4ca3519a-da95-4df8-8285-50b0291ccfce"
      },
      "source": [
        "df[df['Height']>65]"
      ],
      "execution_count": 73,
      "outputs": [
        {
          "output_type": "execute_result",
          "data": {
            "text/html": [
              "<div>\n",
              "<style scoped>\n",
              "    .dataframe tbody tr th:only-of-type {\n",
              "        vertical-align: middle;\n",
              "    }\n",
              "\n",
              "    .dataframe tbody tr th {\n",
              "        vertical-align: top;\n",
              "    }\n",
              "\n",
              "    .dataframe thead th {\n",
              "        text-align: right;\n",
              "    }\n",
              "</style>\n",
              "<table border=\"1\" class=\"dataframe\">\n",
              "  <thead>\n",
              "    <tr style=\"text-align: right;\">\n",
              "      <th></th>\n",
              "      <th>Age</th>\n",
              "      <th>Height</th>\n",
              "      <th>Weight</th>\n",
              "    </tr>\n",
              "  </thead>\n",
              "  <tbody>\n",
              "    <tr>\n",
              "      <th>A</th>\n",
              "      <td>22</td>\n",
              "      <td>66</td>\n",
              "      <td>140</td>\n",
              "    </tr>\n",
              "    <tr>\n",
              "      <th>B</th>\n",
              "      <td>42</td>\n",
              "      <td>70</td>\n",
              "      <td>148</td>\n",
              "    </tr>\n",
              "    <tr>\n",
              "      <th>D</th>\n",
              "      <td>35</td>\n",
              "      <td>68</td>\n",
              "      <td>160</td>\n",
              "    </tr>\n",
              "  </tbody>\n",
              "</table>\n",
              "</div>"
            ],
            "text/plain": [
              "   Age  Height  Weight\n",
              "A   22      66     140\n",
              "B   42      70     148\n",
              "D   35      68     160"
            ]
          },
          "metadata": {
            "tags": []
          },
          "execution_count": 73
        }
      ]
    },
    {
      "cell_type": "code",
      "metadata": {
        "id": "DdgiMBzdWWFB",
        "colab_type": "code",
        "colab": {}
      },
      "source": [
        ""
      ],
      "execution_count": 73,
      "outputs": []
    },
    {
      "cell_type": "code",
      "metadata": {
        "id": "xL6bzP33WWFD",
        "colab_type": "code",
        "colab": {
          "base_uri": "https://localhost:8080/",
          "height": 136
        },
        "outputId": "f12f2403-f03b-419d-b03e-427a5bbb5a8e"
      },
      "source": [
        "print(\"\\nRows with Height > 65 inch\\n\",'-'*35, sep='')\n",
        "print(df[df['Height']>65])\n"
      ],
      "execution_count": 74,
      "outputs": [
        {
          "output_type": "stream",
          "text": [
            "\n",
            "Rows with Height > 65 inch\n",
            "-----------------------------------\n",
            "   Age  Height  Weight\n",
            "A   22      66     140\n",
            "B   42      70     148\n",
            "D   35      68     160\n"
          ],
          "name": "stdout"
        }
      ]
    },
    {
      "cell_type": "code",
      "metadata": {
        "id": "-Fw5VwWIWWFF",
        "colab_type": "code",
        "colab": {
          "base_uri": "https://localhost:8080/",
          "height": 119
        },
        "outputId": "9426dffa-93fe-4bae-a350-494a8dc22497"
      },
      "source": [
        "df['Height']>65"
      ],
      "execution_count": 75,
      "outputs": [
        {
          "output_type": "execute_result",
          "data": {
            "text/plain": [
              "A     True\n",
              "B     True\n",
              "C    False\n",
              "D     True\n",
              "E    False\n",
              "Name: Height, dtype: bool"
            ]
          },
          "metadata": {
            "tags": []
          },
          "execution_count": 75
        }
      ]
    },
    {
      "cell_type": "code",
      "metadata": {
        "id": "PNiL0fKUWWFK",
        "colab_type": "code",
        "colab": {}
      },
      "source": [
        "booldf1 = df['Height']>65\n",
        "booldf2 = df['Weight']>145\n"
      ],
      "execution_count": 76,
      "outputs": []
    },
    {
      "cell_type": "code",
      "metadata": {
        "id": "PTPLlNK-WWFP",
        "colab_type": "code",
        "colab": {
          "base_uri": "https://localhost:8080/",
          "height": 119
        },
        "outputId": "6ea2fcd0-2791-4946-b545-07086494095b"
      },
      "source": [
        "print(\"\\nRows with Height > 65 inch and Weight >145 lbs\\n\",'-'*55, sep='')\n",
        "print(df[(booldf1) & (booldf2)])\n"
      ],
      "execution_count": 77,
      "outputs": [
        {
          "output_type": "stream",
          "text": [
            "\n",
            "Rows with Height > 65 inch and Weight >145 lbs\n",
            "-------------------------------------------------------\n",
            "   Age  Height  Weight\n",
            "B   42      70     148\n",
            "D   35      68     160\n"
          ],
          "name": "stdout"
        }
      ]
    },
    {
      "cell_type": "code",
      "metadata": {
        "id": "kC4prCgNWWFT",
        "colab_type": "code",
        "colab": {
          "base_uri": "https://localhost:8080/",
          "height": 136
        },
        "outputId": "406f4578-f7b3-403d-efa0-c1f76b8180b9"
      },
      "source": [
        "print(\"\\nDataFrame with only Age and Weight columns whose Height > 65 inch\\n\",'-'*68, sep='')\n",
        "print(df[booldf1][['Age','Weight']])"
      ],
      "execution_count": 78,
      "outputs": [
        {
          "output_type": "stream",
          "text": [
            "\n",
            "DataFrame with only Age and Weight columns whose Height > 65 inch\n",
            "--------------------------------------------------------------------\n",
            "   Age  Weight\n",
            "A   22     140\n",
            "B   42     148\n",
            "D   35     160\n"
          ],
          "name": "stdout"
        }
      ]
    },
    {
      "cell_type": "code",
      "metadata": {
        "id": "pe9LlweDWWFX",
        "colab_type": "code",
        "colab": {}
      },
      "source": [
        "matrix_data = np.matrix('22,66,140;42,70,148;30,62,125;35,68,160;25,62,152')\n",
        "row_labels = ['A','B','C','D','E']\n",
        "column_headings = ['Age', 'Height', 'Weight']\n"
      ],
      "execution_count": 79,
      "outputs": []
    },
    {
      "cell_type": "code",
      "metadata": {
        "id": "fKw_JhO5WWFZ",
        "colab_type": "code",
        "colab": {
          "base_uri": "https://localhost:8080/",
          "height": 170
        },
        "outputId": "b3c39413-57ca-4e40-f787-1b6ef7e056e4"
      },
      "source": [
        "df = pd.DataFrame(data=matrix_data, index=row_labels, columns=column_headings)\n",
        "print(\"\\nThe DataFrame\\n\",'-'*25, sep='')\n",
        "print(df)\n"
      ],
      "execution_count": 80,
      "outputs": [
        {
          "output_type": "stream",
          "text": [
            "\n",
            "The DataFrame\n",
            "-------------------------\n",
            "   Age  Height  Weight\n",
            "A   22      66     140\n",
            "B   42      70     148\n",
            "C   30      62     125\n",
            "D   35      68     160\n",
            "E   25      62     152\n"
          ],
          "name": "stdout"
        }
      ]
    },
    {
      "cell_type": "code",
      "metadata": {
        "id": "eTV3UdYBWWFc",
        "colab_type": "code",
        "colab": {
          "base_uri": "https://localhost:8080/",
          "height": 170
        },
        "outputId": "950e5808-63c1-4c2f-bcff-1f9bebf6acec"
      },
      "source": [
        "print(\"\\nAfter resetting index\\n\",'-'*35, sep='')\n",
        "print(df.reset_index())\n"
      ],
      "execution_count": 81,
      "outputs": [
        {
          "output_type": "stream",
          "text": [
            "\n",
            "After resetting index\n",
            "-----------------------------------\n",
            "  index  Age  Height  Weight\n",
            "0     A   22      66     140\n",
            "1     B   42      70     148\n",
            "2     C   30      62     125\n",
            "3     D   35      68     160\n",
            "4     E   25      62     152\n"
          ],
          "name": "stdout"
        }
      ]
    },
    {
      "cell_type": "code",
      "metadata": {
        "id": "4xSZxqhpWWFd",
        "colab_type": "code",
        "colab": {
          "base_uri": "https://localhost:8080/",
          "height": 187
        },
        "outputId": "b4b37e3e-92f6-499b-cd84-08bce0f47691"
      },
      "source": [
        "print(\"\\nAfter resetting index with 'drop' option TRUE\\n\",'-'*45, sep='')\n",
        "print(df.reset_index(drop=True))\n",
        "\"Student Teacher Engineer Doctor Nurse\".split()"
      ],
      "execution_count": 82,
      "outputs": [
        {
          "output_type": "stream",
          "text": [
            "\n",
            "After resetting index with 'drop' option TRUE\n",
            "---------------------------------------------\n",
            "   Age  Height  Weight\n",
            "0   22      66     140\n",
            "1   42      70     148\n",
            "2   30      62     125\n",
            "3   35      68     160\n",
            "4   25      62     152\n"
          ],
          "name": "stdout"
        },
        {
          "output_type": "execute_result",
          "data": {
            "text/plain": [
              "['Student', 'Teacher', 'Engineer', 'Doctor', 'Nurse']"
            ]
          },
          "metadata": {
            "tags": []
          },
          "execution_count": 82
        }
      ]
    },
    {
      "cell_type": "code",
      "metadata": {
        "id": "CZBWnOHxWWFg",
        "colab_type": "code",
        "colab": {
          "base_uri": "https://localhost:8080/",
          "height": 170
        },
        "outputId": "094e6ab7-e06c-4166-e9c9-d4115a4e7232"
      },
      "source": [
        "print(\"\\nAdding a new column 'Profession'\\n\",'-'*45, sep='')\n",
        "df['Profession'] = \"Student Teacher Engineer Doctor Nurse\".split()\n",
        "print(df)\n"
      ],
      "execution_count": 83,
      "outputs": [
        {
          "output_type": "stream",
          "text": [
            "\n",
            "Adding a new column 'Profession'\n",
            "---------------------------------------------\n",
            "   Age  Height  Weight Profession\n",
            "A   22      66     140    Student\n",
            "B   42      70     148    Teacher\n",
            "C   30      62     125   Engineer\n",
            "D   35      68     160     Doctor\n",
            "E   25      62     152      Nurse\n"
          ],
          "name": "stdout"
        }
      ]
    },
    {
      "cell_type": "code",
      "metadata": {
        "id": "EEOqBEtRWWFi",
        "colab_type": "code",
        "colab": {
          "base_uri": "https://localhost:8080/",
          "height": 187
        },
        "outputId": "d8bb4f93-5b2c-4f1a-fef4-975dd5e248f1"
      },
      "source": [
        "print(\"\\nSetting 'Profession' column as index\\n\",'-'*45, sep='')\n",
        "print (df.set_index('Profession'))"
      ],
      "execution_count": 84,
      "outputs": [
        {
          "output_type": "stream",
          "text": [
            "\n",
            "Setting 'Profession' column as index\n",
            "---------------------------------------------\n",
            "            Age  Height  Weight\n",
            "Profession                     \n",
            "Student      22      66     140\n",
            "Teacher      42      70     148\n",
            "Engineer     30      62     125\n",
            "Doctor       35      68     160\n",
            "Nurse        25      62     152\n"
          ],
          "name": "stdout"
        }
      ]
    },
    {
      "cell_type": "code",
      "metadata": {
        "id": "3QPyEO1ZWWFl",
        "colab_type": "code",
        "colab": {}
      },
      "source": [
        "#multi-indexing\n",
        "# Index Levels\n",
        "outside = ['G1','G1','G1','G2','G2','G2']\n",
        "inside = [1,2,3,1,2,3]\n",
        "hier_index = list(zip(outside,inside))\n"
      ],
      "execution_count": 85,
      "outputs": []
    },
    {
      "cell_type": "code",
      "metadata": {
        "id": "zcRhJYp3WWFn",
        "colab_type": "code",
        "colab": {
          "base_uri": "https://localhost:8080/",
          "height": 85
        },
        "outputId": "4f14d232-d06c-4fe0-eedf-e44e2e336b6d"
      },
      "source": [
        "print(\"\\nTuple pairs after the zip and list command\\n\",'-'*45, sep='')\n",
        "print(hier_index)\n"
      ],
      "execution_count": 86,
      "outputs": [
        {
          "output_type": "stream",
          "text": [
            "\n",
            "Tuple pairs after the zip and list command\n",
            "---------------------------------------------\n",
            "[('G1', 1), ('G1', 2), ('G1', 3), ('G2', 1), ('G2', 2), ('G2', 3)]\n"
          ],
          "name": "stdout"
        }
      ]
    },
    {
      "cell_type": "code",
      "metadata": {
        "id": "_LhMkLQlWWFp",
        "colab_type": "code",
        "colab": {
          "base_uri": "https://localhost:8080/",
          "height": 187
        },
        "outputId": "51873423-4997-489c-953b-995ec04c9852"
      },
      "source": [
        "hier_index = pd.MultiIndex.from_tuples(hier_index)\n",
        "print(\"\\nIndex hierarchy\\n\",'-'*25, sep='')\n",
        "print(hier_index)\n",
        "\n"
      ],
      "execution_count": 87,
      "outputs": [
        {
          "output_type": "stream",
          "text": [
            "\n",
            "Index hierarchy\n",
            "-------------------------\n",
            "MultiIndex([('G1', 1),\n",
            "            ('G1', 2),\n",
            "            ('G1', 3),\n",
            "            ('G2', 1),\n",
            "            ('G2', 2),\n",
            "            ('G2', 3)],\n",
            "           )\n"
          ],
          "name": "stdout"
        }
      ]
    },
    {
      "cell_type": "code",
      "metadata": {
        "id": "LpH-9GkCWWFs",
        "colab_type": "code",
        "colab": {
          "base_uri": "https://localhost:8080/",
          "height": 85
        },
        "outputId": "3b0a241d-7a3c-4075-87ad-eaf4669ac3b0"
      },
      "source": [
        "print(\"\\nIndex hierarchy type\\n\",'-'*25, sep='')\n",
        "print(type(hier_index))\n"
      ],
      "execution_count": 88,
      "outputs": [
        {
          "output_type": "stream",
          "text": [
            "\n",
            "Index hierarchy type\n",
            "-------------------------\n",
            "<class 'pandas.core.indexes.multi.MultiIndex'>\n"
          ],
          "name": "stdout"
        }
      ]
    },
    {
      "cell_type": "code",
      "metadata": {
        "id": "iK2Q_RxAWWFv",
        "colab_type": "code",
        "colab": {
          "base_uri": "https://localhost:8080/",
          "height": 187
        },
        "outputId": "6d12a973-534f-4610-c350-1789caf604e6"
      },
      "source": [
        "print(\"\\nCreating DataFrame with multi-index\\n\",'-'*37, sep='')\n",
        "#np.random.seed(101)\n",
        "df1 = pd.DataFrame(data=np.round(rn(6,3)), index= hier_index, columns= ['A','B','C'])\n",
        "print(df1)\n"
      ],
      "execution_count": 89,
      "outputs": [
        {
          "output_type": "stream",
          "text": [
            "\n",
            "Creating DataFrame with multi-index\n",
            "-------------------------------------\n",
            "        A    B    C\n",
            "G1 1  1.0 -0.0 -0.0\n",
            "   2  0.0 -1.0 -1.0\n",
            "   3  1.0 -0.0 -1.0\n",
            "G2 1 -1.0  0.0  2.0\n",
            "   2  1.0  1.0  1.0\n",
            "   3 -2.0  1.0  0.0\n"
          ],
          "name": "stdout"
        }
      ]
    },
    {
      "cell_type": "code",
      "metadata": {
        "id": "kluAV-SQWWFx",
        "colab_type": "code",
        "colab": {}
      },
      "source": [
        "#cross tabulation like pivot table"
      ],
      "execution_count": 90,
      "outputs": []
    },
    {
      "cell_type": "code",
      "metadata": {
        "id": "V3cl56R0WWF1",
        "colab_type": "code",
        "colab": {
          "base_uri": "https://localhost:8080/",
          "height": 136
        },
        "outputId": "924689eb-32ec-47db-d330-33130625884c"
      },
      "source": [
        "print(\"\\nGrabbing a cross-section from outer level\\n\",'-'*45, sep='')\n",
        "print(df1.xs('G1'))\n"
      ],
      "execution_count": 91,
      "outputs": [
        {
          "output_type": "stream",
          "text": [
            "\n",
            "Grabbing a cross-section from outer level\n",
            "---------------------------------------------\n",
            "     A    B    C\n",
            "1  1.0 -0.0 -0.0\n",
            "2  0.0 -1.0 -1.0\n",
            "3  1.0 -0.0 -1.0\n"
          ],
          "name": "stdout"
        }
      ]
    }
  ]
}